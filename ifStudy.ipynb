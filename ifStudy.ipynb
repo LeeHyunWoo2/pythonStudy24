{
  "nbformat": 4,
  "nbformat_minor": 0,
  "metadata": {
    "colab": {
      "provenance": [],
      "authorship_tag": "ABX9TyMV6qNZXIUAtUAnEE4BtIyY",
      "include_colab_link": true
    },
    "kernelspec": {
      "name": "python3",
      "display_name": "Python 3"
    },
    "language_info": {
      "name": "python"
    }
  },
  "cells": [
    {
      "cell_type": "markdown",
      "metadata": {
        "id": "view-in-github",
        "colab_type": "text"
      },
      "source": [
        "<a href=\"https://colab.research.google.com/github/LeeHyunWoo2/pythonStudy24/blob/master/ifStudy.ipynb\" target=\"_parent\"><img src=\"https://colab.research.google.com/assets/colab-badge.svg\" alt=\"Open In Colab\"/></a>"
      ]
    },
    {
      "cell_type": "markdown",
      "source": [
        "프로그램의 판단을 할 수 있는 조건문인 if를 사용해본다\n",
        "\n",
        "if문은 만약에 라는 의미를 가지고 있고 결과는 참, 거짓으로 판단한다."
      ],
      "metadata": {
        "id": "vhIe2YoYnzcC"
      }
    },
    {
      "cell_type": "code",
      "execution_count": null,
      "metadata": {
        "colab": {
          "base_uri": "https://localhost:8080/"
        },
        "id": "2yAuO9VtnoN6",
        "outputId": "426312d1-fedf-41ed-e215-92603b2c688f"
      },
      "outputs": [
        {
          "output_type": "stream",
          "name": "stdout",
          "text": [
            "걸어가라\n"
          ]
        }
      ],
      "source": [
        "# 돈이 있으면 택시를 타고 가고, 돈이 없으면 걸어간다.\n",
        "\n",
        "money = False                  # 돈이 있으면\n",
        "if money:                     # 파이썬은 {}가 없기 때문에 : 으로 구문을 내림\n",
        "  print('택시를 타고 가라')   # 하위 처리를 위해서 띄어쓰기 4번 (혹은 TAB)을 진행\n",
        "  print('모범 택시는 비싸니 다음 택시를 기다려라')\n",
        "  print('택시가 안보이면 카카오 택시를 불러라')\n",
        "else:                         # False 일 경우\n",
        "  print('걸어가라')           # False 용 명령어"
      ]
    },
    {
      "cell_type": "code",
      "source": [
        "money = 2000\n",
        "if money >= 3000:       # if 뒤에 써지는 문장이 조건이 됨 :\n",
        "  print('택시를 타라')  # True\n",
        "elif money >= 1000:\n",
        "  print('버스를 타라')  # 특정 조건 만족\n",
        "else:\n",
        "  print('걸어가라')     # False"
      ],
      "metadata": {
        "colab": {
          "base_uri": "https://localhost:8080/"
        },
        "id": "0H6EnUwZtjoK",
        "outputId": "7593f927-28a0-433e-ce08-5d5af6e9e321"
      },
      "execution_count": null,
      "outputs": [
        {
          "output_type": "stream",
          "name": "stdout",
          "text": [
            "버스를 타라\n"
          ]
        }
      ]
    },
    {
      "cell_type": "code",
      "source": [
        "# x or y -> 또는 (둘중 하나만 참이어도 참)\n",
        "# x and y -> 이고 (둘 다 참이어야 참)\n",
        "# not x -> x 가 아니면 참 (거짓, 반전)\n",
        "\n",
        "# 돈이 3000원 이상 있거나 카드가 있다면 택시를 타고 가고, 아니면 걸어가라\n",
        "\n",
        "money = 2000\n",
        "card = True\n",
        "\n",
        "if money >= 3000 or card:\n",
        "  print('택시를 타라')\n",
        "else:\n",
        "  print('걸어가라')\n",
        "\n",
        "# or 연산 진리표\n",
        "# money or card = 결과\n",
        "#   0        0  =  0\n",
        "#   1        0  =  1\n",
        "#   0        1  =  1\n",
        "#   1        1  =  1"
      ],
      "metadata": {
        "colab": {
          "base_uri": "https://localhost:8080/"
        },
        "id": "F3U5Vw5ZwF4p",
        "outputId": "458fae98-0d27-4bb0-cf20-e6ffc01d44de"
      },
      "execution_count": null,
      "outputs": [
        {
          "output_type": "stream",
          "name": "stdout",
          "text": [
            "택시를 타라\n"
          ]
        }
      ]
    },
    {
      "cell_type": "code",
      "source": [
        "# in            . not in\n",
        "# x in 리스트   . x not in 리스트\n",
        "# x in 튜플     . x not in 튜플\n",
        "# x in 문자열   . x not in 문자열\n",
        "\n",
        "1 not in [1,2,3]"
      ],
      "metadata": {
        "colab": {
          "base_uri": "https://localhost:8080/"
        },
        "id": "Kl1YpM7Vx-nR",
        "outputId": "2162a4f7-f20d-4a9a-b8cb-cb3b9694ae82"
      },
      "execution_count": null,
      "outputs": [
        {
          "output_type": "execute_result",
          "data": {
            "text/plain": [
              "False"
            ]
          },
          "metadata": {},
          "execution_count": 21
        }
      ]
    },
    {
      "cell_type": "code",
      "source": [
        "'a' in ('a', 'b', 'c') # 튜플"
      ],
      "metadata": {
        "colab": {
          "base_uri": "https://localhost:8080/"
        },
        "id": "ur-rjnozzcfq",
        "outputId": "9d1500ba-b23b-48a1-96b0-d66db4a9e8de"
      },
      "execution_count": null,
      "outputs": [
        {
          "output_type": "execute_result",
          "data": {
            "text/plain": [
              "True"
            ]
          },
          "metadata": {},
          "execution_count": 22
        }
      ]
    },
    {
      "cell_type": "code",
      "source": [
        "'j' not in 'python' # 문자열"
      ],
      "metadata": {
        "colab": {
          "base_uri": "https://localhost:8080/"
        },
        "id": "3KlmzFz02y1K",
        "outputId": "9f77695c-a8cb-4da9-ca5a-6d7e2bd78777"
      },
      "execution_count": null,
      "outputs": [
        {
          "output_type": "execute_result",
          "data": {
            "text/plain": [
              "True"
            ]
          },
          "metadata": {},
          "execution_count": 23
        }
      ]
    },
    {
      "cell_type": "code",
      "source": [
        "# 만약 주머니에 돈이 있으면 택시를 타고가고, 없으면 걸어가라\n",
        "\n",
        "pocket = ['paper', 'cellphone', 'money']\n",
        "\n",
        "if 'money' in pocket:\n",
        "  print('택시를 타라')"
      ],
      "metadata": {
        "colab": {
          "base_uri": "https://localhost:8080/"
        },
        "id": "OSBSJayK20XC",
        "outputId": "6310a1ff-d47f-4bfe-dbc6-a41e9ab7aa57"
      },
      "execution_count": null,
      "outputs": [
        {
          "output_type": "stream",
          "name": "stdout",
          "text": [
            "택시를 타라\n"
          ]
        }
      ]
    },
    {
      "cell_type": "code",
      "source": [
        "# 조건문에서 아무 일도 하지 않게 설정하고 싶을 때 pass\n",
        "# 조건문의 참, 거짓에 따라 실행할 행동을 정의할 때나 아무런 일도 하지 않도록 설정하고 싶을 때\n",
        "\n",
        "# 주머니에 돈이 있으면 가만히 있고, 주머니에 돈이 없으면 카드를 꺼내라\n",
        "\n",
        "pocket = ['paper', 'cellphone', 'card']\n",
        "\n",
        "if 'money' in pocket:\n",
        "  pass                  # skip 같은 의미\n",
        "else:\n",
        "  print('카드를 꺼내라')"
      ],
      "metadata": {
        "colab": {
          "base_uri": "https://localhost:8080/"
        },
        "id": "OuMnXzZJ271S",
        "outputId": "3b18fe58-4c0f-4834-d580-7a85e460d9a7"
      },
      "execution_count": null,
      "outputs": [
        {
          "output_type": "stream",
          "name": "stdout",
          "text": [
            "카드를 꺼내라\n"
          ]
        }
      ]
    },
    {
      "cell_type": "code",
      "source": [
        "# elif는 if문 아래쪽에 한번 더 비교하는 조건문 (elif의 사용횟수는 무제한)\n",
        "\n",
        "# 주머니에 돈이 있으면 택시를 타고 가고\n",
        "# 주머니에 돈은 없지만 카드가 있으면 택시를 타고 가고\n",
        "# 주머니에 돈도 없고 카드도 없으면 걸어가라.\n",
        "\n",
        "pocket = ['paper', 'cellphone']\n",
        "card = True\n",
        "\n",
        "if 'money' in pocket:\n",
        "  print('택시를 타라1')\n",
        "elif card:\n",
        "  print('택시를 타라2')\n",
        "else:\n",
        "  print('걸어가라')"
      ],
      "metadata": {
        "colab": {
          "base_uri": "https://localhost:8080/"
        },
        "id": "nZzbJPE46MLq",
        "outputId": "73f71dd8-2dc0-4df6-cdbe-4129396c8abd"
      },
      "execution_count": null,
      "outputs": [
        {
          "output_type": "stream",
          "name": "stdout",
          "text": [
            "택시를 타라2\n"
          ]
        }
      ]
    },
    {
      "cell_type": "code",
      "source": [
        "# 패션코딩 -> 최대한 간결하게 코딩하는 기법\n",
        "\n",
        "if 'money' in pocket: print('택시를 타고 가라')\n",
        "elif card: print('택시를 타고 가라')\n",
        "else: print('걸어가라')"
      ],
      "metadata": {
        "colab": {
          "base_uri": "https://localhost:8080/"
        },
        "id": "JR67m6Bd84VD",
        "outputId": "838634c7-971a-4377-fb42-68bee773644a"
      },
      "execution_count": null,
      "outputs": [
        {
          "output_type": "stream",
          "name": "stdout",
          "text": [
            "택시를 타고 가라\n"
          ]
        }
      ]
    },
    {
      "cell_type": "code",
      "source": [
        "# 시험 점수가 60점 이상이면 success, 아니면 failure를 변수에 담아 출력 해보자."
      ],
      "metadata": {
        "id": "oshvGVYD_UXT"
      },
      "execution_count": null,
      "outputs": []
    },
    {
      "cell_type": "code",
      "source": [
        "score = 88\n",
        "\n",
        "if score >= 60:\n",
        "    message = \"success\"\n",
        "else:\n",
        "    message = \"failure\"\n",
        "\n",
        "print(message)"
      ],
      "metadata": {
        "colab": {
          "base_uri": "https://localhost:8080/"
        },
        "id": "C0ZvxHpoABNb",
        "outputId": "7852c275-a49a-404e-e373-aea172405bbd"
      },
      "execution_count": null,
      "outputs": [
        {
          "output_type": "stream",
          "name": "stdout",
          "text": [
            "success\n"
          ]
        }
      ]
    },
    {
      "cell_type": "code",
      "source": [
        "# 파이썬의 조건부 표현식\n",
        "# 변수 = 참인경우의값 if 조건문 else 거짓인 경우의 값\n",
        "message = \"success\" if score >= 60 else \"failure\"\n",
        "print(message)"
      ],
      "metadata": {
        "colab": {
          "base_uri": "https://localhost:8080/"
        },
        "id": "HNfguRgpAKsr",
        "outputId": "938b634a-1d27-4457-9e58-4ccb42b8cbc4"
      },
      "execution_count": null,
      "outputs": [
        {
          "output_type": "stream",
          "name": "stdout",
          "text": [
            "success\n"
          ]
        }
      ]
    },
    {
      "cell_type": "code",
      "source": [
        "# 미션\n",
        "# 성적처리용 코드 작성 a등급 ~ f등급까지 출력\n",
        "\n",
        "while True:\n",
        "    studentList = {'김기원': 100, '이현우': 101, '조건재': 99, '박주천': -1, '관리자':'admin', '나가기':'나가기'}\n",
        "\n",
        "    name = input('이름을 입력하세요: ')\n",
        "    while name not in studentList:\n",
        "        name = input('리스트에 없는 이름입니다. 다시 입력하세요: ')\n",
        "\n",
        "    score = studentList[name]\n",
        "\n",
        "    def checkGrade(score):\n",
        "        if 100 >= score >= 90:\n",
        "            grade = '등급 : A'\n",
        "        elif 90 > score >= 80:\n",
        "            grade = '등급 : B'\n",
        "        elif 80 > score >= 70:\n",
        "            grade = '등급 : C'\n",
        "        elif 70 > score >= 60:\n",
        "            grade = '등급 : D'\n",
        "        elif 60 > score >= 0:\n",
        "            grade = '등급 : F'\n",
        "        elif score > 100:\n",
        "            grade = '!!부정행위 감지!!'\n",
        "        else:\n",
        "            grade = '잘못된 점수입니다.'\n",
        "        return grade\n",
        "\n",
        "    if isinstance(score, int):\n",
        "        grade = checkGrade(score)\n",
        "        print('이름:', name, grade, '점수:', score, '점')\n",
        "\n",
        "    elif score == 'admin':\n",
        "        print('관리자님 안녕하세요\\n1.학생추가 2.성적변경 3.학생제거 4.로그아웃')\n",
        "        num = int(input('번호를 입력하세요: '))\n",
        "        while num not in [1,2,3,4]:\n",
        "          num = int(input('잘못된 번호입니다. 다시 입력하세요: '))\n",
        "\n",
        "        if num == 1:\n",
        "            name = input('추가할 학생의 이름을 입력하세요: ')\n",
        "            score = int(input('추가할 학생의 점수를 입력하세요: '))\n",
        "            studentList[name] = score\n",
        "\n",
        "        elif num == 2:\n",
        "            name = input('성적을 변경할 학생의 이름을 입력하세요: ')\n",
        "            while name not in studentList:\n",
        "                name = input('리스트에 없는 이름입니다. 다시 입력하세요: ')\n",
        "                score = int(input('점수를 입력하세요: '))\n",
        "                grade = checkGrade(score)\n",
        "                print('이름:', name, grade, '점수:', score, '점')\n",
        "        elif num == 3:\n",
        "            name = input('제거할 학생의 이름을 입력해주세요.')\n",
        "            while name not in studentList:\n",
        "                del studentList[name]\n",
        "                print('학생 제거 완료')\n",
        "                print('학생 명단', studentList)\n",
        "        elif num == 4:\n",
        "            False\n",
        "    elif score == '나가기':\n",
        "        False\n",
        "        break\n"
      ],
      "metadata": {
        "id": "ha4VwgX7Aq3b"
      },
      "execution_count": null,
      "outputs": []
    },
    {
      "cell_type": "code",
      "source": [],
      "metadata": {
        "id": "sO3Bz0HRIKEC"
      },
      "execution_count": null,
      "outputs": []
    }
  ]
}