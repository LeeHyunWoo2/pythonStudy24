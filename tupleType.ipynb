{
  "nbformat": 4,
  "nbformat_minor": 0,
  "metadata": {
    "colab": {
      "provenance": [],
      "authorship_tag": "ABX9TyO8AHX6MGI3mBarAwPqMdve",
      "include_colab_link": true
    },
    "kernelspec": {
      "name": "python3",
      "display_name": "Python 3"
    },
    "language_info": {
      "name": "python"
    }
  },
  "cells": [
    {
      "cell_type": "markdown",
      "metadata": {
        "id": "view-in-github",
        "colab_type": "text"
      },
      "source": [
        "<a href=\"https://colab.research.google.com/github/LeeHyunWoo2/pythonStudy24/blob/master/tupleType.ipynb\" target=\"_parent\"><img src=\"https://colab.research.google.com/assets/colab-badge.svg\" alt=\"Open In Colab\"/></a>"
      ]
    },
    {
      "cell_type": "markdown",
      "source": [
        "튜플 자료형\n",
        "\n",
        "튜플은 리스트와 거의 유사함, 차이점은 ()로 둘러쌈\n",
        "리스트는 CRUD 가능, 튜플은 CR만 가능\n",
        "\n",
        "자바의 Collections.unmodifiableList() 와 비슷함\n",
        "\n",
        "https://velog.io/@clean01/Java-변경이-불가능한-Collection을-만들기-Immutable-Collection-Immutable-List\n"
      ],
      "metadata": {
        "id": "_PSVP33jVjEk"
      }
    },
    {
      "cell_type": "code",
      "execution_count": 1,
      "metadata": {
        "id": "uZvZnxK9VXwS"
      },
      "outputs": [],
      "source": [
        "# 튜플 생성하기\n",
        "\n",
        "t1 = ()                         # 빈 객체\n",
        "t2 = (1,)                       # 1개의 요소만 가질때 쉼표를 반드시 붙여야 함\n",
        "t3 = (1, 2, 3)\n",
        "t4 = 1, 2, 3                    # () 생략 가능\n",
        "t5 = ('a', 'b', ('ab', 'cd'))   # 2차원 튜플\n",
        "\n",
        "# 튜플과 리스트의 가장 큰 차이는 요솟값을 변화시킬 수 있는지에 대한 여부 (튜플은 불가능)\n",
        "# 프로그램이 실행되는 동안 요솟값이 항상 변하지 않기를 바란다면 튜플을 사용하자."
      ]
    },
    {
      "cell_type": "code",
      "source": [
        "t1 = (1, 2, 'a', 'b')\n",
        "del t1[0]"
      ],
      "metadata": {
        "colab": {
          "base_uri": "https://localhost:8080/",
          "height": 166
        },
        "id": "jomiuqmMX7X_",
        "outputId": "155cf6f3-f514-4d7f-d832-1ef65275fb91"
      },
      "execution_count": 2,
      "outputs": [
        {
          "output_type": "error",
          "ename": "TypeError",
          "evalue": "'tuple' object doesn't support item deletion",
          "traceback": [
            "\u001b[0;31m---------------------------------------------------------------------------\u001b[0m",
            "\u001b[0;31mTypeError\u001b[0m                                 Traceback (most recent call last)",
            "\u001b[0;32m<ipython-input-2-f66ca102cafc>\u001b[0m in \u001b[0;36m<cell line: 2>\u001b[0;34m()\u001b[0m\n\u001b[1;32m      1\u001b[0m \u001b[0mt1\u001b[0m \u001b[0;34m=\u001b[0m \u001b[0;34m(\u001b[0m\u001b[0;36m1\u001b[0m\u001b[0;34m,\u001b[0m \u001b[0;36m2\u001b[0m\u001b[0;34m,\u001b[0m \u001b[0;34m'a'\u001b[0m\u001b[0;34m,\u001b[0m \u001b[0;34m'b'\u001b[0m\u001b[0;34m)\u001b[0m\u001b[0;34m\u001b[0m\u001b[0;34m\u001b[0m\u001b[0m\n\u001b[0;32m----> 2\u001b[0;31m \u001b[0;32mdel\u001b[0m \u001b[0mt1\u001b[0m\u001b[0;34m[\u001b[0m\u001b[0;36m0\u001b[0m\u001b[0;34m]\u001b[0m\u001b[0;34m\u001b[0m\u001b[0;34m\u001b[0m\u001b[0m\n\u001b[0m",
            "\u001b[0;31mTypeError\u001b[0m: 'tuple' object doesn't support item deletion"
          ]
        }
      ]
    },
    {
      "cell_type": "code",
      "source": [],
      "metadata": {
        "id": "NJs-a187YCjl"
      },
      "execution_count": null,
      "outputs": []
    }
  ]
}