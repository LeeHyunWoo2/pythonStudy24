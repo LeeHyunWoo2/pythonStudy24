{
  "nbformat": 4,
  "nbformat_minor": 0,
  "metadata": {
    "colab": {
      "provenance": [],
      "authorship_tag": "ABX9TyPOrMwIpTn3WQsSk+2mxIPO",
      "include_colab_link": true
    },
    "kernelspec": {
      "name": "python3",
      "display_name": "Python 3"
    },
    "language_info": {
      "name": "python"
    }
  },
  "cells": [
    {
      "cell_type": "markdown",
      "metadata": {
        "id": "view-in-github",
        "colab_type": "text"
      },
      "source": [
        "<a href=\"https://colab.research.google.com/github/LeeHyunWoo2/pythonStudy24/blob/master/classExam.ipynb\" target=\"_parent\"><img src=\"https://colab.research.google.com/assets/colab-badge.svg\" alt=\"Open In Colab\"/></a>"
      ]
    },
    {
      "cell_type": "markdown",
      "source": [
        "# 클래스는 객체지향 언어의 필수로 각각의 객체를 담당한다\n",
        "\n",
        "# 만약 shopingMall 프로젝트를 만든다고 하면\n",
        "# 회원용.py -> 동작(메서드) C, R, U, D, Other\n",
        "# 아이템.py -> 동작(메서드) C, R, U, D, Other\n",
        "# 게시판.py -> 동작(메서드) C, R, U, D, Other\n",
        "# 장바구니.py  -> 동작(메서드) C, R, U, D, Other\n",
        "# 파일들이 main.py와 연동되게 설정한다."
      ],
      "metadata": {
        "id": "040dl5S3iqDq"
      }
    },
    {
      "cell_type": "code",
      "execution_count": 1,
      "metadata": {
        "id": "BdM5Xdmbik2R",
        "colab": {
          "base_uri": "https://localhost:8080/"
        },
        "outputId": "ac31acc5-c973-4a0d-be31-414cc6866701"
      },
      "outputs": [
        {
          "output_type": "stream",
          "name": "stdout",
          "text": [
            "3\n",
            "7\n"
          ]
        }
      ],
      "source": [
        "# 계산기 처리용 클래스\n",
        "result = 0          # 결과값 처리용 변수\n",
        "\n",
        "def add(num):\n",
        "    global result   # 전역변수 사용\n",
        "    result += num   # 메서드에 입력값을 더함\n",
        "    return result   # 결과를 보냄\n",
        "\n",
        "print(add(3))       # 위에 만든 메서드에 3을 입력하고 리턴값을 출력함\n",
        "print(add(4))       # 위에 만든 메서드에 4을 입력하고 리턴값을 출력함"
      ]
    },
    {
      "cell_type": "code",
      "source": [
        "# 만일 한 프로그램에서 2대의 계산기가 필요한 상황이면?\n",
        "\n",
        "result1 = 0\n",
        "result2 = 0\n",
        "\n",
        "def add1(num):\n",
        "    global result1\n",
        "    result1 += num\n",
        "    return result1\n",
        "\n",
        "def add2(num):\n",
        "    global result2\n",
        "    result2 += num\n",
        "    return result2"
      ],
      "metadata": {
        "id": "fbYIA67ik_Ut"
      },
      "execution_count": 2,
      "outputs": []
    },
    {
      "cell_type": "code",
      "source": [
        "# 클래스를 이용한 계산기\n",
        "\n",
        "class Calculator:               # 객체 생성용 (생성자용 메서드,일반메서드)\n",
        "\n",
        "    def __init__(self):         # 생성자 (객체 생성 시 0순위로 처리 됨)\n",
        "        self.result = 0         # 객체 자신에 result 변수를 만들고 0값을 넣음\n",
        "\n",
        "    def add(self, num):         # 객체용 메서드\n",
        "        self.result += num      # 생성자에 있는 변수에 num을 누적합 저장\n",
        "        return self.result      # 결과를 리턴함."
      ],
      "metadata": {
        "id": "4BNoXslPmGMN"
      },
      "execution_count": 3,
      "outputs": []
    },
    {
      "cell_type": "code",
      "source": [
        "# 객체를 생성함 변수에 연결 (java : Calculator cal1 = new Calculator())\n",
        "\n",
        "cal1 = Calculator()     # 객체 1\n",
        "cal2 = Calculator()     # 객체 2\n",
        "\n",
        "print(cal1.add(3))      # 1번 계산기"
      ],
      "metadata": {
        "colab": {
          "base_uri": "https://localhost:8080/"
        },
        "id": "0Tr2UQiynI6s",
        "outputId": "64aeaf54-5e03-4827-c1e9-58476c17a344"
      },
      "execution_count": 4,
      "outputs": [
        {
          "output_type": "stream",
          "name": "stdout",
          "text": [
            "3\n"
          ]
        }
      ]
    },
    {
      "cell_type": "code",
      "source": [
        "print(cal2.add(9))"
      ],
      "metadata": {
        "colab": {
          "base_uri": "https://localhost:8080/"
        },
        "id": "FLiwaWq4o4xt",
        "outputId": "f70411c3-8fbf-42bb-8ce7-8648884f0d97"
      },
      "execution_count": 5,
      "outputs": [
        {
          "output_type": "stream",
          "name": "stdout",
          "text": [
            "9\n"
          ]
        }
      ]
    },
    {
      "cell_type": "code",
      "source": [
        "print(cal1.add(5))"
      ],
      "metadata": {
        "colab": {
          "base_uri": "https://localhost:8080/"
        },
        "id": "WpXeZyWlpHfL",
        "outputId": "24eea0d9-4356-4209-c5e7-beb4f8b3563b"
      },
      "execution_count": 6,
      "outputs": [
        {
          "output_type": "stream",
          "name": "stdout",
          "text": [
            "8\n"
          ]
        }
      ]
    },
    {
      "cell_type": "code",
      "source": [
        "print(cal2.add(7))"
      ],
      "metadata": {
        "colab": {
          "base_uri": "https://localhost:8080/"
        },
        "id": "rsux041GpJ9r",
        "outputId": "33263a0f-7b04-40e8-b010-d9f3b5ec8e48"
      },
      "execution_count": 7,
      "outputs": [
        {
          "output_type": "stream",
          "name": "stdout",
          "text": [
            "16\n"
          ]
        }
      ]
    },
    {
      "cell_type": "code",
      "source": [
        "# 클래스를 활용한 사칙연산 계산기 만들기\n",
        "\n",
        "class FourCal :\n",
        "    # pass          # 아무기능 없이 동작\n",
        "\n",
        "    # 필드 : 객체마다 가지고 있어야 할 데이터들 (dto, vo)\n",
        "    first = 0\n",
        "    second = 0\n",
        "\n",
        "    # 생성자 : 객체를 생성할 때 필요한 무언가 (생성자의 이름은 __init__ 으로 해야함)\n",
        "\n",
        "    def __init__(self, first, second):\n",
        "        self.first = first\n",
        "        self.second = second\n",
        "\n",
        "    def setdate(self, first, second):   # 메서드 선언 (self 필수)\n",
        "        self.first = first              # this.first = first\n",
        "        self.second = second            # this.second = second\n",
        "\n",
        "    def add(self):\n",
        "        result = self.first + self.second\n",
        "        return result\n",
        "\n",
        "    def mul(self):\n",
        "        result = self.first * self.second\n",
        "        return result\n",
        "\n",
        "    def sub(self):\n",
        "        result = self.first - self.second\n",
        "        return result\n",
        "\n",
        "    def div(self):\n",
        "        result = self.first / self.second\n",
        "        return result"
      ],
      "metadata": {
        "id": "g6JG8jBbpLsL"
      },
      "execution_count": 26,
      "outputs": []
    },
    {
      "cell_type": "code",
      "source": [
        "a = FourCal()       # a 변수에 객체가 연결됨\n",
        "a.setdate(4, 2)     # a 변수를 self로 처리함\n",
        "print(a.first)\n",
        "print(a.second)"
      ],
      "metadata": {
        "colab": {
          "base_uri": "https://localhost:8080/"
        },
        "id": "bYMAHTCsq549",
        "outputId": "37dc9a4a-78ba-43ef-d4aa-f50fb34521bb"
      },
      "execution_count": 9,
      "outputs": [
        {
          "output_type": "stream",
          "name": "stdout",
          "text": [
            "4\n",
            "2\n"
          ]
        }
      ]
    },
    {
      "cell_type": "code",
      "source": [
        "b = FourCal()\n",
        "FourCal.setdate(b, 3, 7)\n",
        "print(b.first)\n",
        "print(b.second)"
      ],
      "metadata": {
        "colab": {
          "base_uri": "https://localhost:8080/"
        },
        "id": "hdfSjKL7rg5j",
        "outputId": "d538ea25-9225-4959-d943-e3dc1916db78"
      },
      "execution_count": 15,
      "outputs": [
        {
          "output_type": "stream",
          "name": "stdout",
          "text": [
            "3\n",
            "7\n"
          ]
        }
      ]
    },
    {
      "cell_type": "code",
      "source": [
        "c = FourCal()\n",
        "c.setdate(5, 5)\n",
        "c.mul()"
      ],
      "metadata": {
        "colab": {
          "base_uri": "https://localhost:8080/"
        },
        "id": "ryEsbNq7vb3z",
        "outputId": "c02ad506-5323-4206-dbd1-4910672a08c9"
      },
      "execution_count": 20,
      "outputs": [
        {
          "output_type": "execute_result",
          "data": {
            "text/plain": [
              "25"
            ]
          },
          "metadata": {},
          "execution_count": 20
        }
      ]
    },
    {
      "cell_type": "code",
      "source": [
        "d = FourCal('김', '기원')\n",
        "d.add()"
      ],
      "metadata": {
        "colab": {
          "base_uri": "https://localhost:8080/",
          "height": 35
        },
        "id": "Z5I2CjhewcpD",
        "outputId": "5c2bffa0-9cc0-40c5-ce5a-7371d671ce7a"
      },
      "execution_count": 42,
      "outputs": [
        {
          "output_type": "execute_result",
          "data": {
            "text/plain": [
              "'김기원'"
            ],
            "application/vnd.google.colaboratory.intrinsic+json": {
              "type": "string"
            }
          },
          "metadata": {},
          "execution_count": 42
        }
      ]
    },
    {
      "cell_type": "code",
      "source": [
        "# 상속 기능 : 부모가 만든 객체를 보완, 추가하는 기능\n",
        "\n",
        "class MoreFourCal(FourCal):     # 객체 생성 시 (부모객체)\n",
        "    def pow(self):\n",
        "        result = self.first ** self.second\n",
        "        return result\n",
        "\n",
        "    # 오버라이딩 : 부모가 만든 메서드를 변경하여 사용함\n",
        "    def div(self):\n",
        "        if self.second == 0:\n",
        "            return 0\n",
        "        else:\n",
        "            return self.first / self.second"
      ],
      "metadata": {
        "id": "qmYUS_K9wzdz"
      },
      "execution_count": 38,
      "outputs": []
    },
    {
      "cell_type": "code",
      "source": [
        "e = MoreFourCal(4,4)\n",
        "e.pow()"
      ],
      "metadata": {
        "colab": {
          "base_uri": "https://localhost:8080/"
        },
        "id": "DKIl4YfDzD9T",
        "outputId": "62cb9675-82d2-456c-bd83-ad3738cea5be"
      },
      "execution_count": 37,
      "outputs": [
        {
          "output_type": "execute_result",
          "data": {
            "text/plain": [
              "256"
            ]
          },
          "metadata": {},
          "execution_count": 37
        }
      ]
    },
    {
      "cell_type": "code",
      "source": [
        "f = MoreFourCal(4,0)\n",
        "f.div() # 만약 위의 오버라이딩을 하지 않으면 0을 나눌 수 없다며 예외가 발생함"
      ],
      "metadata": {
        "colab": {
          "base_uri": "https://localhost:8080/"
        },
        "id": "MoABEXPf0bWq",
        "outputId": "9b0a694b-2a69-449f-f4e9-8fd18095761f"
      },
      "execution_count": 41,
      "outputs": [
        {
          "output_type": "execute_result",
          "data": {
            "text/plain": [
              "0"
            ]
          },
          "metadata": {},
          "execution_count": 41
        }
      ]
    },
    {
      "cell_type": "code",
      "source": [],
      "metadata": {
        "id": "AtKfuxKt2m3-"
      },
      "execution_count": null,
      "outputs": []
    }
  ]
}