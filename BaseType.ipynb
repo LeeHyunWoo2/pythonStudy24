{
  "nbformat": 4,
  "nbformat_minor": 0,
  "metadata": {
    "colab": {
      "provenance": [],
      "authorship_tag": "ABX9TyPtTpJ6upk2+TLiWmyipMa4",
      "include_colab_link": true
    },
    "kernelspec": {
      "name": "python3",
      "display_name": "Python 3"
    },
    "language_info": {
      "name": "python"
    }
  },
  "cells": [
    {
      "cell_type": "markdown",
      "metadata": {
        "id": "view-in-github",
        "colab_type": "text"
      },
      "source": [
        "<a href=\"https://colab.research.google.com/github/LeeHyunWoo2/pythonStudy24/blob/master/BaseType.ipynb\" target=\"_parent\"><img src=\"https://colab.research.google.com/assets/colab-badge.svg\" alt=\"Open In Colab\"/></a>"
      ]
    },
    {
      "cell_type": "markdown",
      "source": [
        "파이썬 프로그래밍 기초, 자료형\n",
        "\n",
        "1. 숫자형\n",
        "2. 문자열\n",
        "3. 리스트\n",
        "4. 튜플\n",
        "5. 딕셔너리\n",
        "6. 집합\n",
        "7. 불(불리언)"
      ],
      "metadata": {
        "id": "DoE8dU9oVDY3"
      }
    },
    {
      "cell_type": "code",
      "source": [
        "# 숫자형은 정수, 실수, 진수형이 있다.\n",
        "\n",
        "# 정수형(Integer) : 양의 정수와 음의 정수. 숫자 0을 변수에 대입\n",
        "\n",
        "a = 123  # 양의 정수\n",
        "b = -123 # 음의 정수\n",
        "c = 0    # 숫자 0\n",
        "\n",
        "# 실수형(floating-point) : 소수점이 포함된 숫자\n",
        "\n",
        "d = 1.2\n",
        "e = -3.45\n",
        "\n",
        "# 지수 표현방법 : 많은 수치를 짧게 표현\n",
        "f = 4.24E10  # 4.24 x 10^10\n",
        "g = 4.24e-10 # 4.24 x 10^-10\n",
        "\n",
        "# 진수 표현 방법\n",
        "# 8진수 (옥타 : ocal) -> 숫자0에 알파벳o (대소문자 가능)\n",
        "\n",
        "h = 0o177\n",
        "print(h)\n",
        "\n",
        "# 16진수 (헥사 : hexadecimal) -> 숫자 0에 알파벳x\n",
        "\n",
        "i = 0x8ff # 8ff 16진수\n",
        "print(i)  # 2303 10진수"
      ],
      "metadata": {
        "colab": {
          "base_uri": "https://localhost:8080/"
        },
        "id": "qLKjhjWaVvzi",
        "outputId": "4ab117b6-66f6-4ba3-8ccf-c0b683e499a1"
      },
      "execution_count": 2,
      "outputs": [
        {
          "output_type": "stream",
          "name": "stdout",
          "text": [
            "127\n",
            "2303\n"
          ]
        }
      ]
    },
    {
      "cell_type": "code",
      "source": [
        "a = 3\n",
        "b = 4\n",
        "a + b"
      ],
      "metadata": {
        "colab": {
          "base_uri": "https://localhost:8080/"
        },
        "id": "lCUISFmhem1Z",
        "outputId": "476ac852-75d2-4e66-b4e7-2f901a76878e"
      },
      "execution_count": 6,
      "outputs": [
        {
          "output_type": "execute_result",
          "data": {
            "text/plain": [
              "7"
            ]
          },
          "metadata": {},
          "execution_count": 6
        }
      ]
    },
    {
      "cell_type": "code",
      "source": [
        "a - b"
      ],
      "metadata": {
        "colab": {
          "base_uri": "https://localhost:8080/"
        },
        "id": "Il2834mCepoa",
        "outputId": "e74ae610-e645-46ec-e804-1debda017530"
      },
      "execution_count": 7,
      "outputs": [
        {
          "output_type": "execute_result",
          "data": {
            "text/plain": [
              "-1"
            ]
          },
          "metadata": {},
          "execution_count": 7
        }
      ]
    },
    {
      "cell_type": "markdown",
      "source": [
        "숫자형을 활용하기 위한 연산자\n",
        "\n",
        "1. 사칙연산 : +, -, *, /\n",
        "2. 우선순위 : 괄호 -> *, / -> 앞쪽"
      ],
      "metadata": {
        "id": "6KsYtGlphE3K"
      }
    },
    {
      "cell_type": "code",
      "source": [
        "# 제곱 처리하는 방법\n",
        "a ** b # 3^4"
      ],
      "metadata": {
        "colab": {
          "base_uri": "https://localhost:8080/"
        },
        "id": "2CCHnSEMeuzJ",
        "outputId": "68582074-7c33-4d98-f943-2dcda6582dde"
      },
      "execution_count": 8,
      "outputs": [
        {
          "output_type": "execute_result",
          "data": {
            "text/plain": [
              "81"
            ]
          },
          "metadata": {},
          "execution_count": 8
        }
      ]
    },
    {
      "cell_type": "code",
      "source": [
        "# 나머지 처리하는 방법 (%)\n",
        "7 % 3"
      ],
      "metadata": {
        "colab": {
          "base_uri": "https://localhost:8080/"
        },
        "id": "FHQP10pYe3d4",
        "outputId": "822fe81f-cf6e-4b8b-f073-c8411ffa4c54"
      },
      "execution_count": 14,
      "outputs": [
        {
          "output_type": "execute_result",
          "data": {
            "text/plain": [
              "1"
            ]
          },
          "metadata": {},
          "execution_count": 14
        }
      ]
    },
    {
      "cell_type": "code",
      "source": [
        "# 나눗셈 후 몫을 리턴하는 방법 (//)\n",
        "7 // 4"
      ],
      "metadata": {
        "colab": {
          "base_uri": "https://localhost:8080/"
        },
        "id": "xlYMN-7tf6Dc",
        "outputId": "a20385ce-2a18-479c-98c9-4f8013d9ce06"
      },
      "execution_count": 17,
      "outputs": [
        {
          "output_type": "execute_result",
          "data": {
            "text/plain": [
              "1"
            ]
          },
          "metadata": {},
          "execution_count": 17
        }
      ]
    },
    {
      "cell_type": "code",
      "source": [
        "# 복합 연산자 +=, -=, *=, /=, //=, %/, **=\n",
        "\n",
        "a = 1\n",
        "a = a + 1\n",
        "print(a)\n",
        "\n",
        "a += 1\n",
        "print(a)"
      ],
      "metadata": {
        "colab": {
          "base_uri": "https://localhost:8080/"
        },
        "id": "bv65gsWNgSib",
        "outputId": "c071f8ad-1d9c-4162-9962-3b3267275178"
      },
      "execution_count": 19,
      "outputs": [
        {
          "output_type": "stream",
          "name": "stdout",
          "text": [
            "2\n",
            "3\n"
          ]
        }
      ]
    },
    {
      "cell_type": "code",
      "source": [
        "# 문자열 자료형 (string) : 연속된 문자들의 나열 \"\" 큰따옴표\n",
        "\n",
        "# 큰따옴표\n",
        "\"Hello World\"\n",
        "\n",
        "# 작은따옴표\n",
        "'Hello World'\n",
        "\n",
        "# 큰따옴표 3개 연속\n",
        "\"\"\"Hello World\"\"\"\n",
        "\n",
        "# 작은따옴표 3개 연속\n",
        "'''Hello World'''\n",
        "\n",
        "food = \"'Python's favorite food is perl\"\n",
        "print(food)"
      ],
      "metadata": {
        "colab": {
          "base_uri": "https://localhost:8080/"
        },
        "id": "c_xuShcbhKge",
        "outputId": "4d3a6e70-0a6f-45f7-e9ad-c0e37d3c9d36"
      },
      "execution_count": 23,
      "outputs": [
        {
          "output_type": "stream",
          "name": "stdout",
          "text": [
            "'Python's favorite food is perl\n"
          ]
        }
      ]
    },
    {
      "cell_type": "code",
      "source": [
        "# 만약에 문자열 출력에 큰따옴표를 보여 주고 싶을 때\n",
        "say = '\"Python is very easy.\" he says.'\n",
        "print(say)"
      ],
      "metadata": {
        "colab": {
          "base_uri": "https://localhost:8080/"
        },
        "id": "yn_q_5AFjFXG",
        "outputId": "d8ecb0c1-2574-4838-f172-d83dadb33348"
      },
      "execution_count": 24,
      "outputs": [
        {
          "output_type": "stream",
          "name": "stdout",
          "text": [
            "\"Python is very easy.\" he says.\n"
          ]
        }
      ]
    },
    {
      "cell_type": "code",
      "source": [
        "# 이스케이프 문자 활용하기 \\n \\t \\r \\\\ 등...\n",
        "\n",
        "food = 'Python\\'s favorite food is perl'\n",
        "print(food)\n",
        "\n",
        "say = \"\\\"Python is very easy.\\\" he says.\"\n",
        "print(say)"
      ],
      "metadata": {
        "colab": {
          "base_uri": "https://localhost:8080/"
        },
        "id": "XI4x8x_Tj20V",
        "outputId": "bddae3d0-08a0-47b2-b652-84bcc25c6745"
      },
      "execution_count": 25,
      "outputs": [
        {
          "output_type": "stream",
          "name": "stdout",
          "text": [
            "Python's favorite food is perl\n",
            "\"Python is very easy.\" he says.\n"
          ]
        }
      ]
    },
    {
      "cell_type": "code",
      "source": [
        "# 여러줄로 출력 \\n 엔터 효과\n",
        "multiline = \"Life is too short\\nYou need python\"\n",
        "print(multiline)"
      ],
      "metadata": {
        "colab": {
          "base_uri": "https://localhost:8080/"
        },
        "id": "iNpWAOUKnZ8-",
        "outputId": "25a7d77e-34af-4417-d9bb-e07caefa15df"
      },
      "execution_count": 27,
      "outputs": [
        {
          "output_type": "stream",
          "name": "stdout",
          "text": [
            "Life is too short\n",
            "You need python\n"
          ]
        }
      ]
    },
    {
      "cell_type": "code",
      "source": [
        "# 여러줄로 출력이 가능한 ''' 혹은 \"\"\" (둘다됨)\n",
        "multiline = '''\n",
        "Life is too short\n",
        "You need python\n",
        "'''\n",
        "print(multiline)"
      ],
      "metadata": {
        "colab": {
          "base_uri": "https://localhost:8080/"
        },
        "id": "VSlt2r-nnkzS",
        "outputId": "b464d158-bf15-43db-884e-f7baba8db962"
      },
      "execution_count": 29,
      "outputs": [
        {
          "output_type": "stream",
          "name": "stdout",
          "text": [
            "\n",
            "Life is too short\n",
            "You need python\n",
            "\n"
          ]
        }
      ]
    },
    {
      "cell_type": "markdown",
      "source": [
        "# 이스케이프 코드 종류\n",
        "\n",
        "* \\n : 문자열 안에서 줄을 바꿈\n",
        "* \\t : 탭 간격으로 점프\n",
        "* \\\\ : \\를 출력한다.\n",
        "* \\' : '를 출력한다\n",
        "* \\\" : \"를 출력한다\n",
        "* \\r : 캐리지 리턴(옛날 타자기 효과 : 커서를 현재 줄 맨 앞으로)\n",
        "* \\f : 폼피드 (줄 바꿈 문자, 커서를 현재 줄의 다음 줄로 이동)\n",
        "* \\a : 벨소리 (출력할 때 비프음 발생)\n",
        "* \\b : 백스페이스\n",
        "* \\000 : null 문자"
      ],
      "metadata": {
        "id": "RzjlA0vIpZnm"
      }
    },
    {
      "cell_type": "code",
      "source": [
        "# 문자열 연산자 (문자열을 더하거나 곱할 수 있다.)\n",
        "head = \"python\"\n",
        "tail = \"is fun!!!\"\n",
        "head + tail"
      ],
      "metadata": {
        "colab": {
          "base_uri": "https://localhost:8080/",
          "height": 35
        },
        "id": "tMWqC49-rWeJ",
        "outputId": "ab5653d2-4cf8-49e1-a0e4-9e868eea31f3"
      },
      "execution_count": 31,
      "outputs": [
        {
          "output_type": "execute_result",
          "data": {
            "text/plain": [
              "'pythonis fun!!!'"
            ],
            "application/vnd.google.colaboratory.intrinsic+json": {
              "type": "string"
            }
          },
          "metadata": {},
          "execution_count": 31
        }
      ]
    },
    {
      "cell_type": "code",
      "source": [
        "body = \"python \"\n",
        "body * 5"
      ],
      "metadata": {
        "colab": {
          "base_uri": "https://localhost:8080/",
          "height": 35
        },
        "id": "E-Er019brgHh",
        "outputId": "78e5e53d-a4a7-4b8e-d15d-97cb47ed03ee"
      },
      "execution_count": 36,
      "outputs": [
        {
          "output_type": "execute_result",
          "data": {
            "text/plain": [
              "'python python python python python '"
            ],
            "application/vnd.google.colaboratory.intrinsic+json": {
              "type": "string"
            }
          },
          "metadata": {},
          "execution_count": 36
        }
      ]
    },
    {
      "cell_type": "code",
      "source": [
        "print('=' * 30)\n",
        "print('My Program')\n",
        "print('=' * 30)"
      ],
      "metadata": {
        "colab": {
          "base_uri": "https://localhost:8080/"
        },
        "id": "xQeBM4GIsDyn",
        "outputId": "5db38f4f-6e6e-4be9-a2a6-6e6f4f1741c3"
      },
      "execution_count": 37,
      "outputs": [
        {
          "output_type": "stream",
          "name": "stdout",
          "text": [
            "==============================\n",
            "My Program\n",
            "==============================\n"
          ]
        }
      ]
    },
    {
      "cell_type": "code",
      "source": [
        "# 문자열의 길이를 구함\n",
        "a = \"Life is too short\"\n",
        "len(a)"
      ],
      "metadata": {
        "colab": {
          "base_uri": "https://localhost:8080/"
        },
        "id": "eii0isWrsZkb",
        "outputId": "2d661c26-0a1e-44ea-e16d-7240f77447c6"
      },
      "execution_count": 38,
      "outputs": [
        {
          "output_type": "execute_result",
          "data": {
            "text/plain": [
              "17"
            ]
          },
          "metadata": {},
          "execution_count": 38
        }
      ]
    },
    {
      "cell_type": "code",
      "source": [
        "# 문자열 인덱싱, 슬라이싱\n",
        "# 문자열은 문자를 배열로 만들어놓음(0번 인덱스부터 적용됨)\n",
        "\n",
        "a = \"Life is too short, You need Python\"\n",
        "#    0               16               33\n",
        "\n",
        "a[16]"
      ],
      "metadata": {
        "colab": {
          "base_uri": "https://localhost:8080/",
          "height": 35
        },
        "id": "lHTF8eCDscug",
        "outputId": "a7bc3892-188d-422e-9e1c-c335109a61aa"
      },
      "execution_count": 39,
      "outputs": [
        {
          "output_type": "execute_result",
          "data": {
            "text/plain": [
              "'t'"
            ],
            "application/vnd.google.colaboratory.intrinsic+json": {
              "type": "string"
            }
          },
          "metadata": {},
          "execution_count": 39
        }
      ]
    },
    {
      "cell_type": "code",
      "source": [
        "a[-1] # 문자열을 뒤에서 읽기 이ㅜ해서 - 기호를 붙임"
      ],
      "metadata": {
        "colab": {
          "base_uri": "https://localhost:8080/",
          "height": 35
        },
        "id": "yNdC3Mtotvbl",
        "outputId": "fa82113f-a1b2-4b6a-9641-79f3572facd6"
      },
      "execution_count": 41,
      "outputs": [
        {
          "output_type": "execute_result",
          "data": {
            "text/plain": [
              "'n'"
            ],
            "application/vnd.google.colaboratory.intrinsic+json": {
              "type": "string"
            }
          },
          "metadata": {},
          "execution_count": 41
        }
      ]
    },
    {
      "cell_type": "code",
      "source": [
        "a[-5]"
      ],
      "metadata": {
        "colab": {
          "base_uri": "https://localhost:8080/",
          "height": 35
        },
        "id": "DdOQeqhyupb7",
        "outputId": "9060737f-2448-4999-a16c-ff02980a9cc1"
      },
      "execution_count": 42,
      "outputs": [
        {
          "output_type": "execute_result",
          "data": {
            "text/plain": [
              "'y'"
            ],
            "application/vnd.google.colaboratory.intrinsic+json": {
              "type": "string"
            }
          },
          "metadata": {},
          "execution_count": 42
        }
      ]
    },
    {
      "cell_type": "code",
      "source": [
        "# 문자열 추출 하기\n",
        "b = a[0]+a[1]+a[2]+a[3]\n",
        "b"
      ],
      "metadata": {
        "colab": {
          "base_uri": "https://localhost:8080/",
          "height": 35
        },
        "id": "OR84NjADuqnY",
        "outputId": "91a471a2-714f-44cb-cdbb-7112e41d574e"
      },
      "execution_count": 44,
      "outputs": [
        {
          "output_type": "execute_result",
          "data": {
            "text/plain": [
              "'Life'"
            ],
            "application/vnd.google.colaboratory.intrinsic+json": {
              "type": "string"
            }
          },
          "metadata": {},
          "execution_count": 44
        }
      ]
    },
    {
      "cell_type": "code",
      "source": [
        "# 슬라이싱 기법\n",
        "a[0:4] # 0 <= a < 4"
      ],
      "metadata": {
        "colab": {
          "base_uri": "https://localhost:8080/",
          "height": 35
        },
        "id": "1hIMtUMeu2eY",
        "outputId": "64ebedae-3e2a-42df-b26e-1907d89e2703"
      },
      "execution_count": 45,
      "outputs": [
        {
          "output_type": "execute_result",
          "data": {
            "text/plain": [
              "'Life'"
            ],
            "application/vnd.google.colaboratory.intrinsic+json": {
              "type": "string"
            }
          },
          "metadata": {},
          "execution_count": 45
        }
      ]
    },
    {
      "cell_type": "code",
      "source": [
        "a[12:17]"
      ],
      "metadata": {
        "colab": {
          "base_uri": "https://localhost:8080/",
          "height": 35
        },
        "id": "9Nbldh9Ru5xo",
        "outputId": "26b640bb-cd39-4188-9b54-c2a2105468d5"
      },
      "execution_count": 46,
      "outputs": [
        {
          "output_type": "execute_result",
          "data": {
            "text/plain": [
              "'short'"
            ],
            "application/vnd.google.colaboratory.intrinsic+json": {
              "type": "string"
            }
          },
          "metadata": {},
          "execution_count": 46
        }
      ]
    },
    {
      "cell_type": "code",
      "source": [
        "a[:19]"
      ],
      "metadata": {
        "colab": {
          "base_uri": "https://localhost:8080/",
          "height": 35
        },
        "id": "YfBRyD4NviFI",
        "outputId": "82337a16-9aa7-43fb-fadf-d36cd5330a65"
      },
      "execution_count": 48,
      "outputs": [
        {
          "output_type": "execute_result",
          "data": {
            "text/plain": [
              "'Life is too short, '"
            ],
            "application/vnd.google.colaboratory.intrinsic+json": {
              "type": "string"
            }
          },
          "metadata": {},
          "execution_count": 48
        }
      ]
    },
    {
      "cell_type": "code",
      "source": [
        "a[19:]"
      ],
      "metadata": {
        "colab": {
          "base_uri": "https://localhost:8080/",
          "height": 35
        },
        "id": "yHu0v1e8vgm4",
        "outputId": "182be0e3-00ac-4eb8-db57-1b81764c0948"
      },
      "execution_count": 47,
      "outputs": [
        {
          "output_type": "execute_result",
          "data": {
            "text/plain": [
              "'You need Python'"
            ],
            "application/vnd.google.colaboratory.intrinsic+json": {
              "type": "string"
            }
          },
          "metadata": {},
          "execution_count": 47
        }
      ]
    },
    {
      "cell_type": "code",
      "source": [
        "a[:]"
      ],
      "metadata": {
        "colab": {
          "base_uri": "https://localhost:8080/",
          "height": 35
        },
        "id": "kQkv09OYvjM4",
        "outputId": "345d0537-5ec2-4c2f-e5b7-ba1cac7b9319"
      },
      "execution_count": 49,
      "outputs": [
        {
          "output_type": "execute_result",
          "data": {
            "text/plain": [
              "'Life is too short, You need Python'"
            ],
            "application/vnd.google.colaboratory.intrinsic+json": {
              "type": "string"
            }
          },
          "metadata": {},
          "execution_count": 49
        }
      ]
    },
    {
      "cell_type": "code",
      "source": [
        "# 슬라이싱 활용해보기\n",
        "a = \"20010331Rainy\"\n",
        "date = a[:8]\n",
        "weather = a[8:]\n",
        "print(date)\n",
        "print(weather)"
      ],
      "metadata": {
        "colab": {
          "base_uri": "https://localhost:8080/"
        },
        "id": "YejAC82cvyTn",
        "outputId": "19be2592-80ce-46f1-c3f4-0ff9795e9da3"
      },
      "execution_count": 50,
      "outputs": [
        {
          "output_type": "stream",
          "name": "stdout",
          "text": [
            "20010331\n",
            "Rainy\n"
          ]
        }
      ]
    },
    {
      "cell_type": "code",
      "source": [
        "year = a[:4]\n",
        "month = a[4:6]\n",
        "day =a[6:8]\n",
        "weather = a[8:]\n",
        "print(year, month, day, weather)"
      ],
      "metadata": {
        "colab": {
          "base_uri": "https://localhost:8080/"
        },
        "id": "HiVUGS7qwNUY",
        "outputId": "11eebaed-4f52-40c3-ecd0-cff4e3907442"
      },
      "execution_count": 51,
      "outputs": [
        {
          "output_type": "stream",
          "name": "stdout",
          "text": [
            "2001 03 31 Rainy\n"
          ]
        }
      ]
    },
    {
      "cell_type": "code",
      "source": [
        "type(year)"
      ],
      "metadata": {
        "colab": {
          "base_uri": "https://localhost:8080/"
        },
        "id": "fJA1KA1Bw8c3",
        "outputId": "aa7d7db8-5bdc-475f-9cd5-ff36eb977db6"
      },
      "execution_count": 52,
      "outputs": [
        {
          "output_type": "execute_result",
          "data": {
            "text/plain": [
              "str"
            ]
          },
          "metadata": {},
          "execution_count": 52
        }
      ]
    },
    {
      "cell_type": "code",
      "source": [
        "# pithon 문자열을 만들었는데  python으로 교체하는 방법 (오타수정)\n",
        "\n",
        "a = \"pithon\"\n",
        "a[1] = 'y'"
      ],
      "metadata": {
        "colab": {
          "base_uri": "https://localhost:8080/",
          "height": 184
        },
        "id": "zhwo27wsxsZ_",
        "outputId": "f0c3dace-da35-48bd-98ca-2e2850dbbe06"
      },
      "execution_count": 56,
      "outputs": [
        {
          "output_type": "error",
          "ename": "TypeError",
          "evalue": "'str' object does not support item assignment",
          "traceback": [
            "\u001b[0;31m---------------------------------------------------------------------------\u001b[0m",
            "\u001b[0;31mTypeError\u001b[0m                                 Traceback (most recent call last)",
            "\u001b[0;32m<ipython-input-56-f97135a93e50>\u001b[0m in \u001b[0;36m<cell line: 4>\u001b[0;34m()\u001b[0m\n\u001b[1;32m      2\u001b[0m \u001b[0;34m\u001b[0m\u001b[0m\n\u001b[1;32m      3\u001b[0m \u001b[0ma\u001b[0m \u001b[0;34m=\u001b[0m \u001b[0;34m\"pithon\"\u001b[0m\u001b[0;34m\u001b[0m\u001b[0;34m\u001b[0m\u001b[0m\n\u001b[0;32m----> 4\u001b[0;31m \u001b[0ma\u001b[0m\u001b[0;34m[\u001b[0m\u001b[0;36m1\u001b[0m\u001b[0;34m]\u001b[0m \u001b[0;34m=\u001b[0m \u001b[0;34m'y'\u001b[0m\u001b[0;34m\u001b[0m\u001b[0;34m\u001b[0m\u001b[0m\n\u001b[0m",
            "\u001b[0;31mTypeError\u001b[0m: 'str' object does not support item assignment"
          ]
        }
      ]
    },
    {
      "cell_type": "code",
      "source": [
        "b = \"pithon\"\n",
        "c = a[:1] + 'y' + a[2:]\n",
        "c # 결론 str 타입은 수정이 안된다. -> 메서드를 사용하거나 쪼개서 붙이거나 해야함"
      ],
      "metadata": {
        "colab": {
          "base_uri": "https://localhost:8080/",
          "height": 35
        },
        "id": "_MYEl2_61NPR",
        "outputId": "03bd6734-667a-4fa0-db17-e2fb0d62b164"
      },
      "execution_count": 61,
      "outputs": [
        {
          "output_type": "execute_result",
          "data": {
            "text/plain": [
              "'python'"
            ],
            "application/vnd.google.colaboratory.intrinsic+json": {
              "type": "string"
            }
          },
          "metadata": {},
          "execution_count": 61
        }
      ]
    },
    {
      "cell_type": "code",
      "source": [
        "# 문자열 포맷팅 -> 자바에서 printf 와 같은 기능\n",
        "# 포맷팅은 동적 출력을 위한 기능으로 \"\"안에 정수나 문자열등을 추가 할 때 활용\n",
        "\"I eat %d apples.\" % 3\n",
        "# %d는 포맷팅 코드\n",
        "# 마지막에 있는 %는 동적 값을 삽입"
      ],
      "metadata": {
        "colab": {
          "base_uri": "https://localhost:8080/",
          "height": 35
        },
        "id": "IvHhGz0T15Dm",
        "outputId": "2b2ff270-189a-46e2-909d-3096eb6477ae"
      },
      "execution_count": 66,
      "outputs": [
        {
          "output_type": "execute_result",
          "data": {
            "text/plain": [
              "'I eat 3 apples.'"
            ],
            "application/vnd.google.colaboratory.intrinsic+json": {
              "type": "string"
            }
          },
          "metadata": {},
          "execution_count": 66
        }
      ]
    },
    {
      "cell_type": "code",
      "source": [
        "\"I eat %s apples.\" % \"five\"\n",
        "# %s 는 문자열이 동적으로 삽입 됨\n",
        "# 마지막에 % 뒤에는 문자열을 넣어야 함으로 \"\", '' 처리를 해야 한다."
      ],
      "metadata": {
        "colab": {
          "base_uri": "https://localhost:8080/",
          "height": 35
        },
        "id": "cndBo9s82x0O",
        "outputId": "4bcab2fc-3c5b-4ee9-e4a7-38e402c87e24"
      },
      "execution_count": 68,
      "outputs": [
        {
          "output_type": "execute_result",
          "data": {
            "text/plain": [
              "'I eat five apples.'"
            ],
            "application/vnd.google.colaboratory.intrinsic+json": {
              "type": "string"
            }
          },
          "metadata": {},
          "execution_count": 68
        }
      ]
    },
    {
      "cell_type": "code",
      "source": [
        "number = 3\n",
        "\"I eat %d apples.\" % number"
      ],
      "metadata": {
        "colab": {
          "base_uri": "https://localhost:8080/",
          "height": 35
        },
        "id": "JtSVkLbF201-",
        "outputId": "cee8d1f2-d78b-4272-9a3f-2232edb31be5"
      },
      "execution_count": 69,
      "outputs": [
        {
          "output_type": "execute_result",
          "data": {
            "text/plain": [
              "'I eat 3 apples.'"
            ],
            "application/vnd.google.colaboratory.intrinsic+json": {
              "type": "string"
            }
          },
          "metadata": {},
          "execution_count": 69
        }
      ]
    },
    {
      "cell_type": "code",
      "source": [
        "number = 10\n",
        "day = \"three\"\n",
        "\"I ate %d apples. so I was sick for %s days.\" % (number, day)\n",
        "# 동적 매게 값을 2개 이상 넣고 싶으면 괄호 안에 쉼표로 넣음\n",
        "# 단, 순서와 타입은 맞춰야 함."
      ],
      "metadata": {
        "colab": {
          "base_uri": "https://localhost:8080/",
          "height": 35
        },
        "id": "YkMooD4H3Wq2",
        "outputId": "1ab20b16-a915-41f1-c22d-f2fac3f4214d"
      },
      "execution_count": 70,
      "outputs": [
        {
          "output_type": "execute_result",
          "data": {
            "text/plain": [
              "'I ate 10 apples. so I was sick for three days.'"
            ],
            "application/vnd.google.colaboratory.intrinsic+json": {
              "type": "string"
            }
          },
          "metadata": {},
          "execution_count": 70
        }
      ]
    },
    {
      "cell_type": "markdown",
      "source": [
        "* %s : 문자열(String)\n",
        "* %d : 정수(Integer)\n",
        "* %c : 문자(char)\n",
        "* %f : 실수(부동 소수점)\n",
        "* %o : 8진수\n",
        "* %x : 16진수"
      ],
      "metadata": {
        "id": "H2z67WKI4aXA"
      }
    },
    {
      "cell_type": "code",
      "source": [
        "# 파이썬의 장점 %s 는 정수나 실수를 자동타입으로 문자열 변환함\n",
        "\"I have %s apples\" % 3"
      ],
      "metadata": {
        "colab": {
          "base_uri": "https://localhost:8080/",
          "height": 35
        },
        "id": "VckfYUuf5Kq3",
        "outputId": "bb29ebc6-06f5-47fa-8a68-918c600f1175"
      },
      "execution_count": 71,
      "outputs": [
        {
          "output_type": "execute_result",
          "data": {
            "text/plain": [
              "'I have 3 apples'"
            ],
            "application/vnd.google.colaboratory.intrinsic+json": {
              "type": "string"
            }
          },
          "metadata": {},
          "execution_count": 71
        }
      ]
    },
    {
      "cell_type": "code",
      "source": [
        "\"rate is %s\" % 3.123"
      ],
      "metadata": {
        "colab": {
          "base_uri": "https://localhost:8080/",
          "height": 35
        },
        "id": "g3Clj7Xj5PfF",
        "outputId": "f3ff3ca7-e4ed-458f-c09e-e89888261120"
      },
      "execution_count": 73,
      "outputs": [
        {
          "output_type": "execute_result",
          "data": {
            "text/plain": [
              "'rate is 3.123'"
            ],
            "application/vnd.google.colaboratory.intrinsic+json": {
              "type": "string"
            }
          },
          "metadata": {},
          "execution_count": 73
        }
      ]
    },
    {
      "cell_type": "code",
      "source": [
        "# 문자열 안에 %를 넣고 싶을 때 -> Error is 98%.\n",
        "\"Error is %d%%.\" % 98\n",
        "# %는 예약어이기 때문에 이럴땐 %를 두개를 써야 문자열 처리됨 (확률 등에서 많이 사용)"
      ],
      "metadata": {
        "colab": {
          "base_uri": "https://localhost:8080/",
          "height": 35
        },
        "id": "mbzTPy555fSF",
        "outputId": "2b6c1e28-02f8-4f00-f9e2-8bac011ad766"
      },
      "execution_count": 79,
      "outputs": [
        {
          "output_type": "execute_result",
          "data": {
            "text/plain": [
              "'Error is 98%.'"
            ],
            "application/vnd.google.colaboratory.intrinsic+json": {
              "type": "string"
            }
          },
          "metadata": {},
          "execution_count": 79
        }
      ]
    },
    {
      "cell_type": "code",
      "source": [
        "# 포맷팅 숫자 처리 (문자 왼쪽 정렬, 숫자 오른쪽 정렬)\n",
        "\n",
        "\"%-10s MBC ai\" % \"hi\" # -10 문자열 10칸을 여백으로 생성하고 그 안쪽에 문자를 왼쪽 정렬하여 넣음 (기본 정렬은 오른쪽)"
      ],
      "metadata": {
        "colab": {
          "base_uri": "https://localhost:8080/",
          "height": 35
        },
        "id": "daQqVzCY5_4V",
        "outputId": "8d42978c-a067-41f4-b86a-1c12fc4cdba7"
      },
      "execution_count": 82,
      "outputs": [
        {
          "output_type": "execute_result",
          "data": {
            "text/plain": [
              "'hi         MBC ai'"
            ],
            "application/vnd.google.colaboratory.intrinsic+json": {
              "type": "string"
            }
          },
          "metadata": {},
          "execution_count": 82
        }
      ]
    },
    {
      "cell_type": "code",
      "source": [
        "# 소수점 포맷팅\n",
        "\"%10.4f\" % 333333333333.14127 # 0.4는 소수점 4자리까지 출력(반올림)\n",
        "# 정수쪽 10은 기본자리수가 10자리지만 넘치면 알아서 늘려줌"
      ],
      "metadata": {
        "colab": {
          "base_uri": "https://localhost:8080/",
          "height": 35
        },
        "id": "2ema8wNP7EV9",
        "outputId": "f14e88b1-58e3-45d5-f288-0ec3dcf3aeaf"
      },
      "execution_count": 97,
      "outputs": [
        {
          "output_type": "execute_result",
          "data": {
            "text/plain": [
              "'333333333333.1413'"
            ],
            "application/vnd.google.colaboratory.intrinsic+json": {
              "type": "string"
            }
          },
          "metadata": {},
          "execution_count": 97
        }
      ]
    },
    {
      "cell_type": "code",
      "source": [
        "# 포맷팅에 가독성을 높이기 위해서 .format() 메서드가 생김\n",
        "\n",
        "\"I eat {0}, {1} apples {2}\".format(3, \"four\", \"!!!\")"
      ],
      "metadata": {
        "colab": {
          "base_uri": "https://localhost:8080/",
          "height": 35
        },
        "id": "Z7Vf61bt9b28",
        "outputId": "6e76906b-19a8-4338-9cc2-48c14e183e43"
      },
      "execution_count": 110,
      "outputs": [
        {
          "output_type": "execute_result",
          "data": {
            "text/plain": [
              "'I eat 3, four apples !!!'"
            ],
            "application/vnd.google.colaboratory.intrinsic+json": {
              "type": "string"
            }
          },
          "metadata": {},
          "execution_count": 110
        }
      ]
    },
    {
      "cell_type": "code",
      "source": [
        "number = 3\n",
        "\"I eat {0} apples\".format(number)"
      ],
      "metadata": {
        "colab": {
          "base_uri": "https://localhost:8080/",
          "height": 35
        },
        "id": "DsOhrcyQ-WP8",
        "outputId": "757dfc3b-785b-4ffa-ddcc-28f14fcc943b"
      },
      "execution_count": 112,
      "outputs": [
        {
          "output_type": "execute_result",
          "data": {
            "text/plain": [
              "'I eat 3 apples'"
            ],
            "application/vnd.google.colaboratory.intrinsic+json": {
              "type": "string"
            }
          },
          "metadata": {},
          "execution_count": 112
        }
      ]
    },
    {
      "cell_type": "code",
      "source": [
        "\"I ate {number} apples. so I was sick for {day} days\".format(number=10, day=3)"
      ],
      "metadata": {
        "colab": {
          "base_uri": "https://localhost:8080/",
          "height": 35
        },
        "id": "3nYGEpc9_Fxs",
        "outputId": "2f5af42c-9892-4e1b-e598-3b4eccb9d5c1"
      },
      "execution_count": 113,
      "outputs": [
        {
          "output_type": "execute_result",
          "data": {
            "text/plain": [
              "'I ate 10 apples. so I was sick for 3 days'"
            ],
            "application/vnd.google.colaboratory.intrinsic+json": {
              "type": "string"
            }
          },
          "metadata": {},
          "execution_count": 113
        }
      ]
    },
    {
      "cell_type": "code",
      "source": [
        "\"I ate {0} apples. so I was sick for {day} days\".format(10, day=3)"
      ],
      "metadata": {
        "colab": {
          "base_uri": "https://localhost:8080/",
          "height": 35
        },
        "id": "jQtkMYUL_PoE",
        "outputId": "86acd28a-0f5a-47e6-8105-611bc5608cfc"
      },
      "execution_count": 116,
      "outputs": [
        {
          "output_type": "execute_result",
          "data": {
            "text/plain": [
              "'I ate 10 apples. so I was sick for 3 days'"
            ],
            "application/vnd.google.colaboratory.intrinsic+json": {
              "type": "string"
            }
          },
          "metadata": {},
          "execution_count": 116
        }
      ]
    },
    {
      "cell_type": "code",
      "source": [
        "\"MBC AI {0:<10}PYTHON\".format(\"hi\") # <^> 가 방향임. ^는 중앙정렬"
      ],
      "metadata": {
        "colab": {
          "base_uri": "https://localhost:8080/",
          "height": 35
        },
        "id": "9oKBu2AW_sfU",
        "outputId": "b7e56dfd-d4dc-47e2-8313-1f749a1b00b1"
      },
      "execution_count": 120,
      "outputs": [
        {
          "output_type": "execute_result",
          "data": {
            "text/plain": [
              "'MBC AI hi        PYTHON'"
            ],
            "application/vnd.google.colaboratory.intrinsic+json": {
              "type": "string"
            }
          },
          "metadata": {},
          "execution_count": 120
        }
      ]
    },
    {
      "cell_type": "code",
      "source": [
        "\"{0:=^10}\".format(\"hi\")"
      ],
      "metadata": {
        "colab": {
          "base_uri": "https://localhost:8080/",
          "height": 35
        },
        "id": "Upb0tFwe_w-k",
        "outputId": "e265aa88-a964-416b-c0df-9a81726bedbb"
      },
      "execution_count": 129,
      "outputs": [
        {
          "output_type": "execute_result",
          "data": {
            "text/plain": [
              "'====hi===='"
            ],
            "application/vnd.google.colaboratory.intrinsic+json": {
              "type": "string"
            }
          },
          "metadata": {},
          "execution_count": 129
        }
      ]
    },
    {
      "cell_type": "code",
      "source": [
        "\"{0:!<10}\".format(\"hi\")"
      ],
      "metadata": {
        "colab": {
          "base_uri": "https://localhost:8080/",
          "height": 35
        },
        "id": "VtwNGAXCL4Q5",
        "outputId": "de6f4019-4d32-4109-e601-06b7e7fb30b3"
      },
      "execution_count": 131,
      "outputs": [
        {
          "output_type": "execute_result",
          "data": {
            "text/plain": [
              "'hi!!!!!!!!'"
            ],
            "application/vnd.google.colaboratory.intrinsic+json": {
              "type": "string"
            }
          },
          "metadata": {},
          "execution_count": 131
        }
      ]
    },
    {
      "cell_type": "code",
      "source": [
        "# 소수점 표현하기\n",
        "y = 3.987654321\n",
        "\"{0:0.4f}\".format(y) # 총 자리수 10자리 중에 소수점은 4자리로 출력"
      ],
      "metadata": {
        "colab": {
          "base_uri": "https://localhost:8080/",
          "height": 35
        },
        "id": "ZD4CWCHNMJFh",
        "outputId": "65bc1009-eb45-4650-fb6a-f3c5a82d17b8"
      },
      "execution_count": 147,
      "outputs": [
        {
          "output_type": "execute_result",
          "data": {
            "text/plain": [
              "'3.9877'"
            ],
            "application/vnd.google.colaboratory.intrinsic+json": {
              "type": "string"
            }
          },
          "metadata": {},
          "execution_count": 147
        }
      ]
    },
    {
      "cell_type": "code",
      "source": [
        "# {문자} 출력 하고 싶을 때\n",
        "\"{{문자}}\".format()\n",
        "# 예약 기호를 2번 연속 기입하면 문자형태로 출력 가능"
      ],
      "metadata": {
        "colab": {
          "base_uri": "https://localhost:8080/",
          "height": 35
        },
        "id": "SBMxizEoM0ph",
        "outputId": "78b13230-cd61-4b86-a7fa-acd5bafbbf9e"
      },
      "execution_count": 154,
      "outputs": [
        {
          "output_type": "execute_result",
          "data": {
            "text/plain": [
              "'{문자}'"
            ],
            "application/vnd.google.colaboratory.intrinsic+json": {
              "type": "string"
            }
          },
          "metadata": {},
          "execution_count": 154
        }
      ]
    },
    {
      "cell_type": "code",
      "source": [
        "# 파이썬 3.6 이상 버전의 최신 포맷팅\n",
        "# .format() 메서드를 사용하지 않는 기법 -> 접두사로 f를 기입\n",
        "\n",
        "name = \"김기원\"\n",
        "age = 42\n",
        "print(f'''\n",
        "나의\n",
        "이름은 {name}입니다. 나이는 {age+5}입니다.\n",
        "asdkmjsalkdsamlkdsamlkdas\n",
        "sadsad\n",
        "sadd\n",
        "\n",
        "''')"
      ],
      "metadata": {
        "colab": {
          "base_uri": "https://localhost:8080/"
        },
        "id": "UxORTkZXNPuK",
        "outputId": "00ed0f31-0b72-4718-b414-1aae020154fc"
      },
      "execution_count": 161,
      "outputs": [
        {
          "output_type": "stream",
          "name": "stdout",
          "text": [
            "\n",
            "나의 \n",
            "이름은 김기원입니다. 나이는 47입니다.\n",
            "asdkmjsalkdsamlkdsamlkdas\n",
            "sadsad\n",
            "sadd\n",
            "\n",
            "\n"
          ]
        }
      ]
    },
    {
      "cell_type": "code",
      "source": [
        "# 딕셔너리를 활용한 포맷팅\n",
        "d = {'name':'홍길동','age':30}\n",
        "f'나의 이름은 {d[\"name\"]}입니다. 나이는 {d[\"age\"]}입니다.'"
      ],
      "metadata": {
        "colab": {
          "base_uri": "https://localhost:8080/",
          "height": 35
        },
        "id": "a_Ba-PLwPyuo",
        "outputId": "90e369dd-d36d-4528-e334-42edd65f9ef4"
      },
      "execution_count": 165,
      "outputs": [
        {
          "output_type": "execute_result",
          "data": {
            "text/plain": [
              "'나의 이름은 홍길동입니다. 나이는 30입니다.'"
            ],
            "application/vnd.google.colaboratory.intrinsic+json": {
              "type": "string"
            }
          },
          "metadata": {},
          "execution_count": 165
        }
      ]
    },
    {
      "cell_type": "code",
      "source": [
        "f'{\"hi\":<10}'"
      ],
      "metadata": {
        "colab": {
          "base_uri": "https://localhost:8080/",
          "height": 35
        },
        "id": "T0oxu3_HQkuA",
        "outputId": "d83e7cdf-f11c-4e5f-be14-0d3788da2b34"
      },
      "execution_count": 167,
      "outputs": [
        {
          "output_type": "execute_result",
          "data": {
            "text/plain": [
              "'hi        '"
            ],
            "application/vnd.google.colaboratory.intrinsic+json": {
              "type": "string"
            }
          },
          "metadata": {},
          "execution_count": 167
        }
      ]
    },
    {
      "cell_type": "code",
      "source": [
        "f'{\"hi\":=^10}'"
      ],
      "metadata": {
        "colab": {
          "base_uri": "https://localhost:8080/",
          "height": 35
        },
        "id": "xUnQqGd3Q623",
        "outputId": "a3785704-d937-4b04-888c-58d636e8e823"
      },
      "execution_count": 169,
      "outputs": [
        {
          "output_type": "execute_result",
          "data": {
            "text/plain": [
              "'====hi===='"
            ],
            "application/vnd.google.colaboratory.intrinsic+json": {
              "type": "string"
            }
          },
          "metadata": {},
          "execution_count": 169
        }
      ]
    },
    {
      "cell_type": "code",
      "source": [
        "y = 3.42123231\n",
        "f'{y:_^10.4f}'"
      ],
      "metadata": {
        "colab": {
          "base_uri": "https://localhost:8080/",
          "height": 35
        },
        "id": "FszRItGhQ-lP",
        "outputId": "00eb3eb4-473f-4a15-85a4-9c4af9947fef"
      },
      "execution_count": 176,
      "outputs": [
        {
          "output_type": "execute_result",
          "data": {
            "text/plain": [
              "'__3.4212__'"
            ],
            "application/vnd.google.colaboratory.intrinsic+json": {
              "type": "string"
            }
          },
          "metadata": {},
          "execution_count": 176
        }
      ]
    },
    {
      "cell_type": "code",
      "source": [
        "# {문자} 로 출력하고 싶을 때\n",
        "f'{{문자}}'"
      ],
      "metadata": {
        "colab": {
          "base_uri": "https://localhost:8080/",
          "height": 35
        },
        "id": "i1muXU0rRzoH",
        "outputId": "cebcbcff-9180-4c85-b50e-21c50119a4a8"
      },
      "execution_count": 178,
      "outputs": [
        {
          "output_type": "execute_result",
          "data": {
            "text/plain": [
              "'{문자}'"
            ],
            "application/vnd.google.colaboratory.intrinsic+json": {
              "type": "string"
            }
          },
          "metadata": {},
          "execution_count": 178
        }
      ]
    }
  ]
}