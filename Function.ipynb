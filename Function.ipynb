{
  "nbformat": 4,
  "nbformat_minor": 0,
  "metadata": {
    "colab": {
      "provenance": [],
      "authorship_tag": "ABX9TyPvuLU788r8+OVUgwYcKyQ/",
      "include_colab_link": true
    },
    "kernelspec": {
      "name": "python3",
      "display_name": "Python 3"
    },
    "language_info": {
      "name": "python"
    }
  },
  "cells": [
    {
      "cell_type": "markdown",
      "metadata": {
        "id": "view-in-github",
        "colab_type": "text"
      },
      "source": [
        "<a href=\"https://colab.research.google.com/github/LeeHyunWoo2/pythonStudy24/blob/master/Function.ipynb\" target=\"_parent\"><img src=\"https://colab.research.google.com/assets/colab-badge.svg\" alt=\"Open In Colab\"/></a>"
      ]
    },
    {
      "cell_type": "markdown",
      "source": [
        "함수 (function)\n",
        "\n",
        "함수는 단일 동작을 수행하는 블럭을 말한다.\n",
        "자바에서는 {} 블럭 단위로 수행하는데 파이썬은 인터프리터로 줄단위 수행\n",
        "\n",
        "프로그램의 메모리 영역은 크게 3가지로 나누어짐\n",
        "\n",
        "스택영역    : 변수에 기본 타입이나 참조타입을 연결\n",
        "힙영역      : 객체를 생성해서 주소를 가지고 있음\n",
        "메서드영역  : 동작들을 보관하고 있다가 호출되면 매개값(파라미터)과 처리후 리턴을 제공 (함수나, 메서드를 보관)\n",
        "\n",
        "함수를 사용하는 이유 : 반복적인 코드 발생을 최소화 하기 위해서 (CRUD)"
      ],
      "metadata": {
        "id": "lQzsk4Hv8QTK"
      }
    },
    {
      "cell_type": "code",
      "execution_count": 5,
      "metadata": {
        "colab": {
          "base_uri": "https://localhost:8080/"
        },
        "id": "QyqKsC5O8NVA",
        "outputId": "a6dcd20f-f986-4acd-c525-cbf04ee2029f"
      },
      "outputs": [
        {
          "output_type": "stream",
          "name": "stdout",
          "text": [
            "add()메서드 종료\n",
            "이현우\n"
          ]
        }
      ],
      "source": [
        "# 파이썬 함수의 구조\n",
        "# def (define : 정의) 함수 생성\n",
        "# def 함수이름(매개변수) :\n",
        "#     실행문1\n",
        "#     실행문2\n",
        "#     ...\n",
        "\n",
        "def add(a, b):      # add라는 함수를 정의(생성), 매개값은 2개를 받음\n",
        "    print(\"add()메서드 종료\")\n",
        "    return a+b      # 매개값으로 받은 2개의 변수를 더해 리턴\n",
        "    # add 종료\n",
        "\n",
        "print(add(\"이\",\"현우\"))"
      ]
    },
    {
      "cell_type": "code",
      "source": [
        "# *args : 매개값이 몇개인지 모를때 (1 이상 ~ )\n",
        "\n",
        "def add_many(*args) :   # *args 매개값이 1개 이상\n",
        "    result = 0          # 결과를 저장하는 변수\n",
        "    for i in args:      # *args는 리스트로 저장이 됨\n",
        "        result += i     # result = result + i\n",
        "    return result       # 결과 리턴\n",
        "\n",
        "print (add_many(1,2,3,4,5,6,7,8,9)) # 파이썬은 인터프리터라서 호출은 매서드 선언후사용\n",
        "# args는 관례임(프로그래머들끼리의 약속)"
      ],
      "metadata": {
        "colab": {
          "base_uri": "https://localhost:8080/"
        },
        "id": "wVSsEM7fEi0Y",
        "outputId": "6ea9ce36-25b9-42f7-dd47-63f41c2e3ec2"
      },
      "execution_count": 15,
      "outputs": [
        {
          "output_type": "stream",
          "name": "stdout",
          "text": [
            "45\n"
          ]
        }
      ]
    },
    {
      "cell_type": "code",
      "source": [
        "test = add_many(1,2,3,4,5,6,7)\n",
        "print(test)"
      ],
      "metadata": {
        "colab": {
          "base_uri": "https://localhost:8080/"
        },
        "id": "IXbAlbYnNOXx",
        "outputId": "720501a9-74e4-461f-fc42-a69d999275d6"
      },
      "execution_count": 16,
      "outputs": [
        {
          "output_type": "stream",
          "name": "stdout",
          "text": [
            "28\n"
          ]
        }
      ]
    },
    {
      "cell_type": "code",
      "source": [
        "def add_mul(choice, *args) :\n",
        "    if choice == \"add\" :\n",
        "        result = 0\n",
        "        for i in args :\n",
        "            result += i\n",
        "    elif choice == \"mul\" :\n",
        "            result = 1\n",
        "            for i in args :\n",
        "                result *= i\n",
        "    return result"
      ],
      "metadata": {
        "id": "3zMtysbyMkSQ"
      },
      "execution_count": 10,
      "outputs": []
    },
    {
      "cell_type": "code",
      "source": [
        "result = add_mul('add', 1,2,3,4,5)\n",
        "print(result)"
      ],
      "metadata": {
        "colab": {
          "base_uri": "https://localhost:8080/"
        },
        "id": "Sz0tyuadMxXA",
        "outputId": "bce097d8-2711-4658-c156-d38850925fe0"
      },
      "execution_count": 14,
      "outputs": [
        {
          "output_type": "stream",
          "name": "stdout",
          "text": [
            "15\n"
          ]
        }
      ]
    },
    {
      "cell_type": "code",
      "source": [
        "result= add_mul('mul', 1,2,3,4,5)\n",
        "print(result)"
      ],
      "metadata": {
        "colab": {
          "base_uri": "https://localhost:8080/"
        },
        "id": "ArOwOKdBNJ-Y",
        "outputId": "ec361ed0-7c13-4c42-d03f-eba38965c636"
      },
      "execution_count": 22,
      "outputs": [
        {
          "output_type": "stream",
          "name": "stdout",
          "text": [
            "120\n"
          ]
        }
      ]
    },
    {
      "cell_type": "code",
      "source": [
        "# **kwargs : 키워드 매개변수 (딕셔너리)\n",
        "def print_kwargs(**kwargs) :\n",
        "    print(kwargs)\n",
        "\n",
        "print_kwargs(name=123)"
      ],
      "metadata": {
        "colab": {
          "base_uri": "https://localhost:8080/"
        },
        "id": "Qx0xwi5hOoKg",
        "outputId": "e3017132-55e2-4a91-e407-495eedcfa37a"
      },
      "execution_count": 25,
      "outputs": [
        {
          "output_type": "stream",
          "name": "stdout",
          "text": [
            "{'name': 123}\n"
          ]
        }
      ]
    },
    {
      "cell_type": "code",
      "source": [
        "print_kwargs(id=\"lhw\", pw=\"1234\", phone=5745, email=\"triaxis159@gmail.com\")"
      ],
      "metadata": {
        "colab": {
          "base_uri": "https://localhost:8080/"
        },
        "id": "giXfW6oiPN4A",
        "outputId": "c95f909d-47df-4855-8555-2eab2af22d84"
      },
      "execution_count": 26,
      "outputs": [
        {
          "output_type": "stream",
          "name": "stdout",
          "text": [
            "{'id': 'lhw', 'pw': '1234', 'phone': 5745, 'email': 'triaxis159@gmail.com'}\n"
          ]
        }
      ]
    },
    {
      "cell_type": "code",
      "source": [
        "# 만약 리턴값이 2개????\n",
        "\n",
        "def add_and_mul(a,b) :\n",
        "    return a+b, a*b, a-b\n",
        "\n",
        "result1, result2, result3 = add_and_mul(3,4)\n",
        "print(result1)\n",
        "print(result2)\n",
        "print(result3)"
      ],
      "metadata": {
        "colab": {
          "base_uri": "https://localhost:8080/"
        },
        "id": "0QALaz5nP0X4",
        "outputId": "af5a1811-e94c-415c-bb18-4c72975e829b"
      },
      "execution_count": 29,
      "outputs": [
        {
          "output_type": "stream",
          "name": "stdout",
          "text": [
            "7\n",
            "12\n",
            "-1\n"
          ]
        }
      ]
    },
    {
      "cell_type": "code",
      "source": [
        "def say_myself(name, old, man=True) :\n",
        "    print(\"나의 이름은 %s 입니다.\" % name)\n",
        "    print(\"나의 나이는 %d 살 입니다.\" % old)\n",
        "    if man :\n",
        "        print(\"남자입니다.\")\n",
        "    else :\n",
        "        print(\"여자입니다.\")\n",
        "\n",
        "say_myself(\"이현우\", 29)"
      ],
      "metadata": {
        "colab": {
          "base_uri": "https://localhost:8080/"
        },
        "id": "WOOtzNTeQaUY",
        "outputId": "92284f25-e1a8-4954-cd9d-508955065336"
      },
      "execution_count": 31,
      "outputs": [
        {
          "output_type": "stream",
          "name": "stdout",
          "text": [
            "나의 이름은 이현우 입니다.\n",
            "나의 나이는 29 살 입니다.\n",
            "남자입니다.\n"
          ]
        }
      ]
    },
    {
      "cell_type": "code",
      "source": [
        "# 람다식 : 인터페이스형태의 실행문이 1개인 코드\n",
        "# 자바에서 람다식은 -> 사용하고, 자바스크립트는 =>\n",
        "# 파이썬의 람다식은\n",
        "# 변수 = lambda 매개변수 : 실행문\n",
        "\n",
        "add = lambda a, b : a+b\n",
        "result = add(3,4)\n",
        "print(result)"
      ],
      "metadata": {
        "colab": {
          "base_uri": "https://localhost:8080/"
        },
        "id": "LF8pQi1gRcgR",
        "outputId": "1252b683-e198-407f-b87d-5a39c32fdb59"
      },
      "execution_count": 33,
      "outputs": [
        {
          "output_type": "stream",
          "name": "stdout",
          "text": [
            "7\n"
          ]
        }
      ]
    },
    {
      "cell_type": "code",
      "source": [
        "# 미션\n",
        "# 자판기 코드를 함수로 리빌드 진행 시작\n",
        "\n",
        "# 원래 만들때부터 그렇게 했기 때문에 기존 코드 참조"
      ],
      "metadata": {
        "id": "M4leQPZGTYHB"
      },
      "execution_count": 34,
      "outputs": []
    },
    {
      "cell_type": "code",
      "source": [],
      "metadata": {
        "id": "nE7Lw6ACUCmL"
      },
      "execution_count": null,
      "outputs": []
    }
  ]
}