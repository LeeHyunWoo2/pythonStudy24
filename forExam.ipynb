{
  "nbformat": 4,
  "nbformat_minor": 0,
  "metadata": {
    "colab": {
      "provenance": [],
      "authorship_tag": "ABX9TyMrZEblyf8LA3T9281aFgfU",
      "include_colab_link": true
    },
    "kernelspec": {
      "name": "python3",
      "display_name": "Python 3"
    },
    "language_info": {
      "name": "python"
    }
  },
  "cells": [
    {
      "cell_type": "markdown",
      "metadata": {
        "id": "view-in-github",
        "colab_type": "text"
      },
      "source": [
        "<a href=\"https://colab.research.google.com/github/LeeHyunWoo2/pythonStudy24/blob/master/forExam.ipynb\" target=\"_parent\"><img src=\"https://colab.research.google.com/assets/colab-badge.svg\" alt=\"Open In Colab\"/></a>"
      ]
    },
    {
      "cell_type": "markdown",
      "source": [
        "for문 연습\n",
        "\n",
        "for문은 while과 같은 반복문으로 차이점은 max가 있나 없나이다.\n",
        "\n",
        "for문은 구구단과 같이 9라는 max 값이 있을때 사용됨\n",
        "\n",
        "while은 max가 없지만 종료되는 시점을 만들오 제공 (강제종료 ctrl + c)\n",
        "\n",
        "for 변수 in 리스트 | 튜플 | 문자열 : |\n",
        "    실행문 1\n",
        "    실행문 2"
      ],
      "metadata": {
        "id": "heTMw_4IB6xj"
      }
    },
    {
      "cell_type": "code",
      "source": [
        "# 전형적인 for문\n",
        "\n",
        "test_list = ['one', 'two', 'three']\n",
        "for i in test_list:\n",
        "    print(i)"
      ],
      "metadata": {
        "colab": {
          "base_uri": "https://localhost:8080/"
        },
        "id": "TIHiOYgCD1GG",
        "outputId": "dc4f0b01-7ac6-4c22-9f84-870650fad676"
      },
      "execution_count": 2,
      "outputs": [
        {
          "output_type": "stream",
          "name": "stdout",
          "text": [
            "one\n",
            "two\n",
            "three\n"
          ]
        }
      ]
    },
    {
      "cell_type": "code",
      "source": [
        "# 다양한 for문 사용\n",
        "a = [(1,2), (3,4), (5,6)]\n",
        "for (first, last) in a:\n",
        "    print(first + last)"
      ],
      "metadata": {
        "colab": {
          "base_uri": "https://localhost:8080/"
        },
        "id": "2G5mew7WFIIX",
        "outputId": "88679108-d414-44d6-8f9f-22ce1b53c11d"
      },
      "execution_count": 3,
      "outputs": [
        {
          "output_type": "stream",
          "name": "stdout",
          "text": [
            "3\n",
            "7\n",
            "11\n"
          ]
        }
      ]
    },
    {
      "cell_type": "code",
      "source": [
        "# 총 5명의 학생이 시험을 보았는데 시험 점수가 60점 이상이면\n",
        "# 합격이고, 그렇지 않으면 불합격이다.\n",
        "\n",
        "marks = [90,25,67,45,80]    # 학생별 시험 점수, 5명\n",
        "number = 0                  # 학생 출력 시 번호 지정\n",
        "\n",
        "for mark in marks:          # 리스트(marks)에 있는 객체를 앞에서 1개씩 가져와 mark 변수에 넣음\n",
        "    number = number + 1\n",
        "    if mark >= 60:\n",
        "        print(\"%d번 학생은 합격입니다.\" % number)"
      ],
      "metadata": {
        "colab": {
          "base_uri": "https://localhost:8080/"
        },
        "id": "lBt4Qn3UFKru",
        "outputId": "60e5b1e3-0c4b-47f7-f8f5-5ab8d6bf16f5"
      },
      "execution_count": 5,
      "outputs": [
        {
          "output_type": "stream",
          "name": "stdout",
          "text": [
            "1번 학생은 합격입니다.\n",
            "3번 학생은 합격입니다.\n",
            "5번 학생은 합격입니다.\n"
          ]
        }
      ]
    },
    {
      "cell_type": "code",
      "source": [
        "# for + continue\n",
        "\n",
        "marks = [90,25,67,45,80]     # 학생들의 점수 리스트\n",
        "number = 0                   # 학생 번호\n",
        "for mark in marks:           # 리스트 반복문\n",
        "    number = number + 1      # 학생번호 증가\n",
        "    if mark < 60:            # 점수가 < 60\n",
        "        continue             # 점수가 60보다 작을 때 위로 올라감\n",
        "    print(\"%d번 학생 축하합니다. 합격입니다.\" % number)"
      ],
      "metadata": {
        "colab": {
          "base_uri": "https://localhost:8080/"
        },
        "id": "TgDBK5DcGhce",
        "outputId": "907cd3cf-404e-45be-f2d1-cb673cc6fdb1"
      },
      "execution_count": 8,
      "outputs": [
        {
          "output_type": "stream",
          "name": "stdout",
          "text": [
            "1번 학생 축하합니다. 합격입니다.\n",
            "3번 학생 축하합니다. 합격입니다.\n",
            "5번 학생 축하합니다. 합격입니다.\n"
          ]
        }
      ]
    },
    {
      "cell_type": "code",
      "source": [
        "# for문과 같이 자주 쓰는 range()\n",
        "\n",
        "a = range(10) # 0 부터 10 미만 숫자를 포함하는 객체를 만들어줌\n",
        "a             # 0~9까지 값을 가지고 있음"
      ],
      "metadata": {
        "colab": {
          "base_uri": "https://localhost:8080/"
        },
        "id": "ckP6Gn1XKc2_",
        "outputId": "505bd3a9-e99d-4405-8688-a38473a45613"
      },
      "execution_count": 10,
      "outputs": [
        {
          "output_type": "execute_result",
          "data": {
            "text/plain": [
              "range(0, 10)"
            ]
          },
          "metadata": {},
          "execution_count": 10
        }
      ]
    },
    {
      "cell_type": "code",
      "source": [
        "a = range(1,11) # (시작값, 끝값)\n",
        "a               # 1~10까지 값을 가지고 있음"
      ],
      "metadata": {
        "colab": {
          "base_uri": "https://localhost:8080/"
        },
        "id": "Xy9YeUBqKkYw",
        "outputId": "891c35db-c9bd-4f53-e877-589a968fb38f"
      },
      "execution_count": 11,
      "outputs": [
        {
          "output_type": "execute_result",
          "data": {
            "text/plain": [
              "range(1, 11)"
            ]
          },
          "metadata": {},
          "execution_count": 11
        }
      ]
    },
    {
      "cell_type": "code",
      "source": [
        "for i in range(1,11):\n",
        "    print(i)"
      ],
      "metadata": {
        "colab": {
          "base_uri": "https://localhost:8080/"
        },
        "id": "sjaoLTKWK7L3",
        "outputId": "aa371134-4b00-4ea9-c222-b6feb2b48fe4"
      },
      "execution_count": 12,
      "outputs": [
        {
          "output_type": "stream",
          "name": "stdout",
          "text": [
            "1\n",
            "2\n",
            "3\n",
            "4\n",
            "5\n",
            "6\n",
            "7\n",
            "8\n",
            "9\n",
            "10\n"
          ]
        }
      ]
    },
    {
      "cell_type": "code",
      "source": [
        "marks = [90,25,67,45,80]\n",
        "for number in range(len(marks)):\n",
        "    if marks[number] < 60:\n",
        "        continue\n",
        "    print(\"%d번 학생 축하합니다. 합격입니다.\" % (number+1))"
      ],
      "metadata": {
        "colab": {
          "base_uri": "https://localhost:8080/"
        },
        "id": "LHlI9QNxLRL_",
        "outputId": "a197a41f-f4e7-47d4-c431-b95a8a5a666d"
      },
      "execution_count": 13,
      "outputs": [
        {
          "output_type": "stream",
          "name": "stdout",
          "text": [
            "1번 학생 축하합니다. 합격입니다.\n",
            "3번 학생 축하합니다. 합격입니다.\n",
            "5번 학생 축하합니다. 합격입니다.\n"
          ]
        }
      ]
    },
    {
      "cell_type": "code",
      "source": [
        "# 구구단을 만들어 보자 2 * 1 ~ 9 * 9 = 81\n",
        "# 다중 for문\n",
        "\n",
        "for i in range(2,10):           # 2단~9단\n",
        "    for j in range(1,10):       # 단마다 곱해지는 값\n",
        "        print(i*j, end=\", \")\n",
        "    print('')"
      ],
      "metadata": {
        "colab": {
          "base_uri": "https://localhost:8080/"
        },
        "id": "8Whw7-ztL0PX",
        "outputId": "8f2f04cc-27f0-4f81-9d97-e31b0b09cc31"
      },
      "execution_count": 17,
      "outputs": [
        {
          "output_type": "stream",
          "name": "stdout",
          "text": [
            "2, 4, 6, 8, 10, 12, 14, 16, 18, \n",
            "3, 6, 9, 12, 15, 18, 21, 24, 27, \n",
            "4, 8, 12, 16, 20, 24, 28, 32, 36, \n",
            "5, 10, 15, 20, 25, 30, 35, 40, 45, \n",
            "6, 12, 18, 24, 30, 36, 42, 48, 54, \n",
            "7, 14, 21, 28, 35, 42, 49, 56, 63, \n",
            "8, 16, 24, 32, 40, 48, 56, 64, 72, \n",
            "9, 18, 27, 36, 45, 54, 63, 72, 81, \n"
          ]
        }
      ]
    },
    {
      "cell_type": "code",
      "source": [
        "# 리스트 컴프리헨션 -> 결과를 리스트로 저장\n",
        "\n",
        "# 리스트 컴프리 헨션을 사용하지 않는 방법\n",
        "a = [1,2,3,4]               # 입력 리스트 값\n",
        "result = []                 # 출력 리스트 값\n",
        "for num in a:               # 입력 리스트 값을 1개씩 가져와 num에 넣음\n",
        "    result.append(num*3)    # 출력 리스트값에 3을 곱해 추가함(.append)\n",
        "    print(result)           # 반복 후에 출력"
      ],
      "metadata": {
        "colab": {
          "base_uri": "https://localhost:8080/"
        },
        "id": "sDCRJmKRMYuP",
        "outputId": "d4aa27e5-0f53-438a-b85e-8d137fdd812c"
      },
      "execution_count": 20,
      "outputs": [
        {
          "output_type": "stream",
          "name": "stdout",
          "text": [
            "[3]\n",
            "[3, 6]\n",
            "[3, 6, 9]\n",
            "[3, 6, 9, 12]\n"
          ]
        }
      ]
    },
    {
      "cell_type": "code",
      "source": [
        "a = [1,2,3,4]\n",
        "result = [num*3 for num in a] # 변수 = [ 실행문 for 변수 in 배열 ] 리스트화\n",
        "print(result)"
      ],
      "metadata": {
        "colab": {
          "base_uri": "https://localhost:8080/"
        },
        "id": "fLHUlHqvOTWI",
        "outputId": "3725f132-b490-4822-f202-2222711169d2"
      },
      "execution_count": 21,
      "outputs": [
        {
          "output_type": "stream",
          "name": "stdout",
          "text": [
            "[3, 6, 9, 12]\n"
          ]
        }
      ]
    },
    {
      "cell_type": "code",
      "source": [
        "# 짝수만 3을 곱해서 리스트에 담고 싶다.\n",
        "a = [1,2,3,4]\n",
        "result = [num*3 for num in a if num % 2 == 0]\n",
        "# 결과배열 = 실행문 for      조건\n",
        "print(result)"
      ],
      "metadata": {
        "colab": {
          "base_uri": "https://localhost:8080/"
        },
        "id": "WmP8SA-lPD-P",
        "outputId": "2851d099-867e-40c1-c71c-49dfa1e7a6f4"
      },
      "execution_count": 22,
      "outputs": [
        {
          "output_type": "stream",
          "name": "stdout",
          "text": [
            "[6, 12]\n"
          ]
        }
      ]
    },
    {
      "cell_type": "code",
      "source": [
        "# 미션 - 전에 만든 커피 자판기를 리스트화 해서 for문으로 구현\n",
        "\n",
        "# 커피 종류가 5개 (커피명, 수량, 단가)\n",
        "# 사용자 커피를 반복 구매\n",
        "# 관리자가 판매 종료 후 통계\n",
        "\n",
        "coffeeList = [\n",
        "  {'name': '에스프레소', 'price': 3500, 'stock': 12},\n",
        "  {'name': '아메리카노', 'price': 4000, 'stock': 8},\n",
        "  {'name': '카푸치노', 'price': 5000, 'stock': 5},\n",
        "  {'name': '카페라떼', 'price': 5000, 'stock': 6},\n",
        "  {'name': '마끼아또', 'price': 5000, 'stock': 3}\n",
        "]\n",
        "\n",
        "totalSalesValue = 0  # 매출총액\n",
        "\n",
        "\n",
        "# 돈계산 함수\n",
        "def calcMoney(userMoney, coffee, quantity):\n",
        "  global totalSalesValue # 전역변수선언\n",
        "\n",
        "  totalPrice = coffee['price'] * quantity  # 총 금액 계산\n",
        "\n",
        "  if isinstance(userMoney, int):  # int 이외 입력 시 예외처리 필요\n",
        "    if userMoney >= totalPrice:\n",
        "      coffee['stock'] -= quantity  # 구매한 수량만큼 재고 차감\n",
        "      totalSalesValue += totalPrice\n",
        "      print(f\"드세요. 잔돈 : {userMoney - totalPrice}원\")\n",
        "      return userMoney - totalPrice  # 거스름돈 반환\n",
        "    else:\n",
        "      print(\"돈이 부족합니다.\")\n",
        "    return userMoney\n",
        "\n",
        "\n",
        "# 관리자 모드 함수 (추가/수정/삭제)\n",
        "def adminMode():\n",
        "  while True:\n",
        "    print(\"\"\"\n",
        "    == 관리자 모드 ==\n",
        "    [1] 커피 추가\n",
        "    [2] 커피 수정\n",
        "    [3] 커피 삭제\n",
        "    [4] 종료\n",
        "    \"\"\")\n",
        "    try: # try-catch 같은거\n",
        "      choice = int(input(\"작업을 선택하세요: \"))\n",
        "      if choice == 1:\n",
        "        addCoffee()\n",
        "      elif choice == 2:\n",
        "        modifyCoffee()\n",
        "      elif choice == 3:\n",
        "        deleteCoffee()\n",
        "      elif choice == 4:\n",
        "        print(\"관리자 모드를 종료합니다.\\n\")\n",
        "        break\n",
        "      else:\n",
        "        print(\"유효한 번호를 입력하세요.\")\n",
        "    except ValueError: # 예외처리\n",
        "      print(\"숫자를 입력해주세요.\")\n",
        "\n",
        "\n",
        "# 커피 추가 함수\n",
        "def addCoffee():\n",
        "  print(\"\\n== 커피 추가 ==\")\n",
        "  name = input(\"추가할 커피 이름을 입력하세요: \")\n",
        "  try:\n",
        "    price = int(input(\"커피 가격을 입력하세요: \"))\n",
        "    stock = int(input(\"커피 재고를 입력하세요: \"))\n",
        "    coffeeList.append({'name': name, 'price': price, 'stock': stock})\n",
        "    print(f\"{name}가 메뉴에 추가되었습니다.\\n\")\n",
        "  except ValueError:\n",
        "    print(\"가격과 재고는 숫자로 입력해주세요.\")\n",
        "\n",
        "\n",
        "# 커피 수정 함수\n",
        "def modifyCoffee():\n",
        "  print(\"\\n== 커피 수정 ==\")\n",
        "  print(\"수정할 커피를 선택하세요:\")\n",
        "  showCoffeeList()\n",
        "  try:\n",
        "    coffeeIndex = int(input(\"번호를 입력하세요: \")) - 1\n",
        "    if 0 <= coffeeIndex < len(coffeeList):\n",
        "      coffee = coffeeList[coffeeIndex]\n",
        "      print(f\"현재 커피: {coffee}\")\n",
        "      newName = input(f\"새 이름 (현재: {coffee['name']}): \")\n",
        "      newPrice = input(f\"새 가격 (현재: {coffee['price']}) (숫자 입력): \")\n",
        "      newStock = input(f\"새 재고 (현재: {coffee['stock']}) (숫자 입력): \")\n",
        "\n",
        "      # 입력된 값이 있을 경우만 수정\n",
        "      if newName:\n",
        "        coffee['name'] = newName\n",
        "      if newPrice:\n",
        "        coffee['price'] = int(newPrice)\n",
        "      if newStock:\n",
        "        coffee['stock'] = int(newStock)\n",
        "\n",
        "      print(\"커피 정보가 수정되었습니다.\\n\")\n",
        "    else:\n",
        "      print(\"올바른 번호를 입력해주세요.\")\n",
        "  except ValueError:\n",
        "    print(\"유효한 숫자를 입력해주세요.\")\n",
        "\n",
        "\n",
        "# 커피 삭제 함수\n",
        "def deleteCoffee():\n",
        "  print(\"\\n== 커피 삭제 ==\")\n",
        "  print(\"삭제할 커피를 선택하세요:\")\n",
        "  showCoffeeList()\n",
        "  try:\n",
        "    coffeeIndex = int(input(\"번호를 입력하세요: \")) - 1\n",
        "    if 0 <= coffeeIndex < len(coffeeList):\n",
        "      deletedCoffee = coffeeList.pop(coffeeIndex)\n",
        "      print(f\"{deletedCoffee['name']}가 삭제되었습니다.\\n\")\n",
        "    else:\n",
        "      print(\"올바른 번호를 입력해주세요.\")\n",
        "  except ValueError:\n",
        "    print(\"유효한 숫자를 입력해주세요.\")\n",
        "\n",
        "\n",
        "# 전체 커피 리스트 출력\n",
        "def showCoffeeList():\n",
        "  if not coffeeList:\n",
        "    print(\"등록된 커피가 없습니다.\")\n",
        "    return\n",
        "  for i, coffee in enumerate(coffeeList, start=1):\n",
        "    print(\n",
        "      f\"[{i}] - {coffee['name']} | 가격: {coffee['price']}원 | 재고: {coffee['stock']}개\")\n",
        "\n",
        "\n",
        "# 판매 모드 함수\n",
        "def sellCoffee():\n",
        "  global totalSalesValue  # 함수 내에서 사용하기 위해 전역변수 선언\n",
        "\n",
        "  while True:\n",
        "    totalStock = sum(\n",
        "        coffee['stock'] for coffee in coffeeList)  # 리스트 내 stock의 총합 계산\n",
        "\n",
        "    if totalStock == 0:\n",
        "      print(\"판매 종료. 총 매출 : \" + str(totalSalesValue) + \"원\")\n",
        "      break\n",
        "\n",
        "    print(\"\\n커피 종류를 선택해주세요\")\n",
        "    showCoffeeList()\n",
        "\n",
        "    try:\n",
        "      # 커피 선택\n",
        "      selectCoffee = int(input(\"\\n구매할 커피 번호를 입력하세요: \")) - 1\n",
        "      if 0 <= selectCoffee < len(coffeeList):  # 범위 내 번호인지 확인\n",
        "        selectedCoffee = coffeeList[selectCoffee]\n",
        "\n",
        "        if selectedCoffee['stock'] > 0:\n",
        "          print(f\"\\n{selectedCoffee['name']} | 1잔 가격 : {selectedCoffee['price']}원 입니다.\")\n",
        "\n",
        "          # 구매 수량 입력\n",
        "          while True:\n",
        "            try:\n",
        "              quantity = int(input(\"몇 잔을 구매하시겠습니까? \"))\n",
        "              if quantity > 0 and quantity <= selectedCoffee['stock']:\n",
        "                break\n",
        "              else:\n",
        "                print(f\"수량을 다시 입력해주세요. 재고: {selectedCoffee['stock']}잔\")\n",
        "            except ValueError:\n",
        "              print(\"유효한 숫자를 입력해주세요.\")\n",
        "\n",
        "          # 결제\n",
        "          try:\n",
        "            print(f\"\\n{selectedCoffee['name']} {quantity} 잔 총 {selectedCoffee['price'] * quantity} 원\")\n",
        "            userMoney = int(input(\"돈을 넣어주세요: \"))\n",
        "            calcMoney(userMoney, selectedCoffee, quantity)\n",
        "          except ValueError:\n",
        "            print(\"유효한 금액을 입력해주세요.\")\n",
        "        else:\n",
        "          print(\"재고가 없습니다.\")\n",
        "      elif selectCoffee == -2:\n",
        "        print('관리자 모드로 진입합니다.')\n",
        "        adminMode()\n",
        "      elif selectCoffee == -3:\n",
        "        print('장사 조기종료')\n",
        "        break\n",
        "      else:\n",
        "        print(\"올바른 번호를 입력해주세요.\")\n",
        "    except ValueError:\n",
        "      print(\"숫자를 입력해주세요.\")\n",
        "\n",
        "\n",
        "# 메인메뉴\n",
        "while True:\n",
        "  print(\"\"\"\n",
        "    [1] 관리자 모드\n",
        "    [2] 장사 시작\n",
        "    [3] 종료\n",
        "    \"\"\")\n",
        "  mode = input(\"모드를 선택하세요: \")\n",
        "\n",
        "  if mode == \"1\":\n",
        "    adminMode()\n",
        "  elif mode == \"2\":\n",
        "    sellCoffee()\n",
        "  elif mode == \"3\":\n",
        "    print(\"프로그램 종료\")\n",
        "    break\n",
        "  else:\n",
        "    print(\"올바르지 않은 입력입니다.\")\n"
      ],
      "metadata": {
        "colab": {
          "base_uri": "https://localhost:8080/",
          "height": 777
        },
        "id": "yMIbXfNMQHzw",
        "outputId": "73b341d1-7a47-4dda-a747-06abaf052432"
      },
      "execution_count": 30,
      "outputs": [
        {
          "output_type": "stream",
          "name": "stdout",
          "text": [
            "\n",
            "    [1] 관리자 모드\n",
            "    [2] 장사 시작\n",
            "    [3] 종료\n",
            "    \n",
            "모드를 선택하세요: 2\n",
            "\n",
            "커피 종류를 선택해주세요\n",
            "[1] - 에스프레소 | 가격: 3500원 | 재고: 12개\n",
            "[2] - 아메리카노 | 가격: 4000원 | 재고: 8개\n",
            "[3] - 카푸치노 | 가격: 5000원 | 재고: 5개\n",
            "[4] - 카페라떼 | 가격: 5000원 | 재고: 6개\n",
            "[5] - 마끼아또 | 가격: 5000원 | 재고: 3개\n",
            "\n",
            "구매할 커피 번호를 입력하세요: -2\n",
            "-3\n",
            "장사 조기종료\n",
            "\n",
            "    [1] 관리자 모드\n",
            "    [2] 장사 시작\n",
            "    [3] 종료\n",
            "    \n"
          ]
        },
        {
          "output_type": "error",
          "ename": "KeyboardInterrupt",
          "evalue": "Interrupted by user",
          "traceback": [
            "\u001b[0;31m---------------------------------------------------------------------------\u001b[0m",
            "\u001b[0;31mKeyboardInterrupt\u001b[0m                         Traceback (most recent call last)",
            "\u001b[0;32m<ipython-input-30-6e5e4c89e472>\u001b[0m in \u001b[0;36m<cell line: 188>\u001b[0;34m()\u001b[0m\n\u001b[1;32m    192\u001b[0m     \u001b[0;34m[\u001b[0m\u001b[0;36m3\u001b[0m\u001b[0;34m]\u001b[0m \u001b[0m종료\u001b[0m\u001b[0;34m\u001b[0m\u001b[0;34m\u001b[0m\u001b[0m\n\u001b[1;32m    193\u001b[0m     \"\"\")\n\u001b[0;32m--> 194\u001b[0;31m   \u001b[0mmode\u001b[0m \u001b[0;34m=\u001b[0m \u001b[0minput\u001b[0m\u001b[0;34m(\u001b[0m\u001b[0;34m\"모드를 선택하세요: \"\u001b[0m\u001b[0;34m)\u001b[0m\u001b[0;34m\u001b[0m\u001b[0;34m\u001b[0m\u001b[0m\n\u001b[0m\u001b[1;32m    195\u001b[0m \u001b[0;34m\u001b[0m\u001b[0m\n\u001b[1;32m    196\u001b[0m   \u001b[0;32mif\u001b[0m \u001b[0mmode\u001b[0m \u001b[0;34m==\u001b[0m \u001b[0;34m\"1\"\u001b[0m\u001b[0;34m:\u001b[0m\u001b[0;34m\u001b[0m\u001b[0;34m\u001b[0m\u001b[0m\n",
            "\u001b[0;32m/usr/local/lib/python3.10/dist-packages/ipykernel/kernelbase.py\u001b[0m in \u001b[0;36mraw_input\u001b[0;34m(self, prompt)\u001b[0m\n\u001b[1;32m    849\u001b[0m                 \u001b[0;34m\"raw_input was called, but this frontend does not support input requests.\"\u001b[0m\u001b[0;34m\u001b[0m\u001b[0;34m\u001b[0m\u001b[0m\n\u001b[1;32m    850\u001b[0m             )\n\u001b[0;32m--> 851\u001b[0;31m         return self._input_request(str(prompt),\n\u001b[0m\u001b[1;32m    852\u001b[0m             \u001b[0mself\u001b[0m\u001b[0;34m.\u001b[0m\u001b[0m_parent_ident\u001b[0m\u001b[0;34m,\u001b[0m\u001b[0;34m\u001b[0m\u001b[0;34m\u001b[0m\u001b[0m\n\u001b[1;32m    853\u001b[0m             \u001b[0mself\u001b[0m\u001b[0;34m.\u001b[0m\u001b[0m_parent_header\u001b[0m\u001b[0;34m,\u001b[0m\u001b[0;34m\u001b[0m\u001b[0;34m\u001b[0m\u001b[0m\n",
            "\u001b[0;32m/usr/local/lib/python3.10/dist-packages/ipykernel/kernelbase.py\u001b[0m in \u001b[0;36m_input_request\u001b[0;34m(self, prompt, ident, parent, password)\u001b[0m\n\u001b[1;32m    893\u001b[0m             \u001b[0;32mexcept\u001b[0m \u001b[0mKeyboardInterrupt\u001b[0m\u001b[0;34m:\u001b[0m\u001b[0;34m\u001b[0m\u001b[0;34m\u001b[0m\u001b[0m\n\u001b[1;32m    894\u001b[0m                 \u001b[0;31m# re-raise KeyboardInterrupt, to truncate traceback\u001b[0m\u001b[0;34m\u001b[0m\u001b[0;34m\u001b[0m\u001b[0m\n\u001b[0;32m--> 895\u001b[0;31m                 \u001b[0;32mraise\u001b[0m \u001b[0mKeyboardInterrupt\u001b[0m\u001b[0;34m(\u001b[0m\u001b[0;34m\"Interrupted by user\"\u001b[0m\u001b[0;34m)\u001b[0m \u001b[0;32mfrom\u001b[0m \u001b[0;32mNone\u001b[0m\u001b[0;34m\u001b[0m\u001b[0;34m\u001b[0m\u001b[0m\n\u001b[0m\u001b[1;32m    896\u001b[0m             \u001b[0;32mexcept\u001b[0m \u001b[0mException\u001b[0m \u001b[0;32mas\u001b[0m \u001b[0me\u001b[0m\u001b[0;34m:\u001b[0m\u001b[0;34m\u001b[0m\u001b[0;34m\u001b[0m\u001b[0m\n\u001b[1;32m    897\u001b[0m                 \u001b[0mself\u001b[0m\u001b[0;34m.\u001b[0m\u001b[0mlog\u001b[0m\u001b[0;34m.\u001b[0m\u001b[0mwarning\u001b[0m\u001b[0;34m(\u001b[0m\u001b[0;34m\"Invalid Message:\"\u001b[0m\u001b[0;34m,\u001b[0m \u001b[0mexc_info\u001b[0m\u001b[0;34m=\u001b[0m\u001b[0;32mTrue\u001b[0m\u001b[0;34m)\u001b[0m\u001b[0;34m\u001b[0m\u001b[0;34m\u001b[0m\u001b[0m\n",
            "\u001b[0;31mKeyboardInterrupt\u001b[0m: Interrupted by user"
          ]
        }
      ]
    },
    {
      "cell_type": "code",
      "source": [],
      "metadata": {
        "id": "4vrmwxlzSGRQ"
      },
      "execution_count": null,
      "outputs": []
    }
  ]
}